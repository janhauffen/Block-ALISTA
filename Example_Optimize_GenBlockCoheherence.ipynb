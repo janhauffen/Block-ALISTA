{
  "nbformat": 4,
  "nbformat_minor": 0,
  "metadata": {
    "colab": {
      "name": "Example_Optimize_GenBlockCoheherence.ipynb",
      "provenance": [],
      "collapsed_sections": []
    },
    "kernelspec": {
      "name": "python3",
      "display_name": "Python 3"
    },
    "language_info": {
      "name": "python"
    }
  },
  "cells": [
    {
      "cell_type": "code",
      "metadata": {
        "id": "w45mRgCsCdgS"
      },
      "source": [
        "import cvxpy as cp\n",
        "import numpy as np\n",
        "from scipy.linalg import toeplitz, circulant\n",
        "import matplotlib.pyplot as plt"
      ],
      "execution_count": null,
      "outputs": []
    },
    {
      "cell_type": "code",
      "metadata": {
        "id": "amuaG12qOq7A"
      },
      "source": [
        "def R(D, n, d):\n",
        "    n_y, n_x  = D.shape\n",
        "    R = np.zeros((n,n))\n",
        "    for k in range(0,n):\n",
        "      for l in range(k,n):\n",
        "          I = np.zeros((n_x,n_x))\n",
        "          I_s = np.zeros((n,n))\n",
        "          I[l*d:(l+1)*d, k*d:(k+1)*d] = np.ones(d)\n",
        "          I_s[l,k] = 1 \n",
        "          if k==l:\n",
        "            R = R+cp.norm(cp.multiply(I,D), 2)*I_s\n",
        "          else:\n",
        "            R = R+cp.norm(cp.multiply(I,D), 2)*I_s+cp.norm(cp.multiply(I.T,D), 2)*I_s.T\n",
        "        \n",
        "    return R"
      ],
      "execution_count": null,
      "outputs": []
    },
    {
      "cell_type": "markdown",
      "metadata": {
        "id": "fWRsuCMXZljB"
      },
      "source": [
        "# Test for a random Matrix D"
      ]
    },
    {
      "cell_type": "code",
      "metadata": {
        "id": "UxEJ7t3-JXx2"
      },
      "source": [
        "d = 2 # number of block length\n",
        "m = 5 \n",
        "n = 10 # number of blocks\n",
        "\n",
        "# creating a random matrix with orthonormal blocks\n",
        "D = np.zeros((m*d, n*d))\n",
        "for l in range(0,n):\n",
        "    D[:,l*d:(l+1)*d] = np.random.random(size=(m*d, d))\n",
        "    D[:,l*d:(l+1)*d], _ = np.linalg.qr(D[:,l*d:(l+1)*d])\n"
      ],
      "execution_count": null,
      "outputs": []
    },
    {
      "cell_type": "code",
      "metadata": {
        "id": "2R36jZTBWSsz",
        "colab": {
          "base_uri": "https://localhost:8080/"
        },
        "outputId": "e69ac23b-bcd7-41e6-8f69-b2ca98e159d9"
      },
      "source": [
        "\n",
        "# Construct the problem.\n",
        "B_cvx = cp.Variable((m*d,n*d))\n",
        "\n",
        "I = np.kron(np.eye(n), np.ones((d, d)))\n",
        "k = np.tile(np.eye(d), (1, n)).T\n",
        "b = cp.multiply(B_cvx.T@D, I)\n",
        "b = cp.matmul(b, k) #extracting the diagonal blocks of D^TB\n",
        "constraints = [b == k]\n",
        "\n",
        "objective = cp.Minimize(1/d*cp.max(R(B_cvx.T@D-np.eye(n*d), n, d)))\n",
        "\n",
        "#objective = cp.Minimize(cp.max(cp.abs(A.T@x-np.eye(n))))\n",
        "\n",
        "prob = cp.Problem(objective, constraints)\n",
        "\n",
        "# The optimal objective value is returned by `prob.solve()`.\n",
        "result = prob.solve()\n",
        "# The optimal value for x is stored in `x.value`.\n",
        "#print(x.value)\n",
        "# The optimal Lagrange multiplier for a constraint is stored in\n",
        "# `constraint.dual_value`.\n",
        "#print(constraints[0].dual_value)\n",
        "print(result)"
      ],
      "execution_count": null,
      "outputs": [
        {
          "output_type": "stream",
          "text": [
            "0.46081424546188576\n"
          ],
          "name": "stdout"
        }
      ]
    },
    {
      "cell_type": "markdown",
      "metadata": {
        "id": "J4SFQXJoaNge"
      },
      "source": [
        "first block of $B^TD$"
      ]
    },
    {
      "cell_type": "code",
      "metadata": {
        "id": "HCU2jSzZD2c0",
        "colab": {
          "base_uri": "https://localhost:8080/"
        },
        "outputId": "941d6367-a887-43ce-c223-cc0ab6e223da"
      },
      "source": [
        "# Construct the problem.\n",
        "B_up = cp.Variable((m*d,n*d))\n",
        "\n",
        "I = np.kron(np.eye(n), np.ones((d, d)))\n",
        "k = np.tile(np.eye(d), (1, n)).T\n",
        "b = cp.multiply(B_up.T@D, I)\n",
        "b = cp.matmul(b, k) #extracting the diagonal blocks of D^TB\n",
        "constraints = [b == k]\n",
        "\n",
        "objective = cp.Minimize(1/d*(cp.norm(B_up.T@D, 'fro')))\n",
        "\n",
        "#objective = cp.Minimize(cp.max(cp.abs(A.T@x-np.eye(n))))\n",
        "\n",
        "prob = cp.Problem(objective, constraints)\n",
        "\n",
        "# The optimal objective value is returned by `prob.solve()`.\n",
        "result = prob.solve()\n",
        "# The optimal value for x is stored in `x.value`.\n",
        "#print(x.value)\n",
        "# The optimal Lagrange multiplier for a constraint is stored in\n",
        "# `constraint.dual_value`.\n",
        "#print(constraints[0].dual_value)\n",
        "print(result)"
      ],
      "execution_count": null,
      "outputs": [
        {
          "output_type": "stream",
          "text": [
            "3.6164415773707432\n"
          ],
          "name": "stdout"
        }
      ]
    },
    {
      "cell_type": "markdown",
      "metadata": {
        "id": "TN8tWw_aMkPm"
      },
      "source": [
        "# Comparison of \"direct\" solution and frobenius estimation"
      ]
    },
    {
      "cell_type": "markdown",
      "metadata": {
        "id": "G5cA7HyqtBis"
      },
      "source": [
        "generalized coherence:"
      ]
    },
    {
      "cell_type": "code",
      "metadata": {
        "id": "DETiKU70tHje",
        "colab": {
          "base_uri": "https://localhost:8080/"
        },
        "outputId": "cf1c8476-9298-4619-81e6-f641eefd0971"
      },
      "source": [
        "1/d*np.max(R(B_up.T@D-np.eye(n*d), n, d).value)"
      ],
      "execution_count": null,
      "outputs": [
        {
          "output_type": "execute_result",
          "data": {
            "text/plain": [
              "0.5662568328312224"
            ]
          },
          "metadata": {
            "tags": []
          },
          "execution_count": 6
        }
      ]
    },
    {
      "cell_type": "code",
      "metadata": {
        "id": "oVDu7wWlMvR5",
        "colab": {
          "base_uri": "https://localhost:8080/"
        },
        "outputId": "cf293d74-fc18-4193-ab60-aff015245d5c"
      },
      "source": [
        "1/d*np.max(R(B_cvx.T@D-np.eye(n*d), n, d).value)"
      ],
      "execution_count": null,
      "outputs": [
        {
          "output_type": "execute_result",
          "data": {
            "text/plain": [
              "0.4608047108265468"
            ]
          },
          "metadata": {
            "tags": []
          },
          "execution_count": 7
        }
      ]
    },
    {
      "cell_type": "markdown",
      "metadata": {
        "id": "zk_wQ-B0MjHj"
      },
      "source": [
        "images"
      ]
    },
    {
      "cell_type": "code",
      "metadata": {
        "id": "uAsQDh-6D-A3",
        "colab": {
          "base_uri": "https://localhost:8080/",
          "height": 266
        },
        "outputId": "d61ff9b5-9934-47f2-f0b0-5014dbf08c57"
      },
      "source": [
        "plt.imshow(B_up.value)\n",
        "plt.colorbar()"
      ],
      "execution_count": null,
      "outputs": [
        {
          "output_type": "execute_result",
          "data": {
            "text/plain": [
              "<matplotlib.colorbar.Colorbar at 0x7f7fe8f0f810>"
            ]
          },
          "metadata": {
            "tags": []
          },
          "execution_count": 8
        },
        {
          "output_type": "display_data",
          "data": {
            "image/png": "[encoded data removed]",
            "text/plain": [
              "<Figure size 432x288 with 2 Axes>"
            ]
          },
          "metadata": {
            "tags": [],
            "needs_background": "light"
          }
        }
      ]
    },
    {
      "cell_type": "code",
      "metadata": {
        "id": "ySNcyi9JMy8r",
        "colab": {
          "base_uri": "https://localhost:8080/",
          "height": 272
        },
        "outputId": "42a3d52c-9559-42d6-92d3-18c6a78999c5"
      },
      "source": [
        "plt.imshow(B_cvx.value)\n",
        "plt.colorbar()"
      ],
      "execution_count": null,
      "outputs": [
        {
          "output_type": "execute_result",
          "data": {
            "text/plain": [
              "<matplotlib.colorbar.Colorbar at 0x7f7fe8ea0fd0>"
            ]
          },
          "metadata": {
            "tags": []
          },
          "execution_count": 9
        },
        {
          "output_type": "display_data",
          "data": {
            "image/png": "[encoded data removed]",
            "text/plain": [
              "<Figure size 432x288 with 2 Axes>"
            ]
          },
          "metadata": {
            "tags": [],
            "needs_background": "light"
          }
        }
      ]
    },
    {
      "cell_type": "markdown",
      "metadata": {
        "id": "Rmgoai5TM3m-"
      },
      "source": [
        "condition number, with respect to the $\\|\\cdot\\|_2$ operator norm."
      ]
    },
    {
      "cell_type": "code",
      "metadata": {
        "id": "cKOy3mz7M1Yv",
        "colab": {
          "base_uri": "https://localhost:8080/"
        },
        "outputId": "fc707ad8-1c17-44a2-d447-7181de5fc59b"
      },
      "source": [
        "np.linalg.cond(B_up.value)"
      ],
      "execution_count": null,
      "outputs": [
        {
          "output_type": "execute_result",
          "data": {
            "text/plain": [
              "4.95279241640092"
            ]
          },
          "metadata": {
            "tags": []
          },
          "execution_count": 10
        }
      ]
    },
    {
      "cell_type": "code",
      "metadata": {
        "id": "mFgpPVm1bvZW",
        "colab": {
          "base_uri": "https://localhost:8080/"
        },
        "outputId": "7e0a9e8b-9be2-416a-97a4-f0fb1e9d7d76"
      },
      "source": [
        "np.linalg.cond(B_cvx.value)"
      ],
      "execution_count": null,
      "outputs": [
        {
          "output_type": "execute_result",
          "data": {
            "text/plain": [
              "5.417888775286857"
            ]
          },
          "metadata": {
            "tags": []
          },
          "execution_count": 11
        }
      ]
    },
    {
      "cell_type": "markdown",
      "metadata": {
        "id": "m43VVod_NDiY"
      },
      "source": [
        "We observe $ \\mu_b(B_{cvx}) < \\mu_b(B_{up}) $ but on the other hand $ \\kappa(B_{cvx}) > \\kappa(B_{up}) $\n"
      ]
    }
  ]
}