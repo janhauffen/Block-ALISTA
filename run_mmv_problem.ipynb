{
 "cells": [
  {
   "cell_type": "code",
   "execution_count": 1,
   "id": "5cdd0313",
   "metadata": {},
   "outputs": [
    {
     "name": "stdout",
     "output_type": "stream",
     "text": [
      "WARNING:tensorflow:From /Users/hauffen/opt/anaconda3/envs/tf-jupyter/lib/python3.7/site-packages/tensorflow_core/python/compat/v2_compat.py:65: disable_resource_variables (from tensorflow.python.ops.variable_scope) is deprecated and will be removed in a future version.\n",
      "Instructions for updating:\n",
      "non-resource variables are not supported in the long term\n"
     ]
    },
    {
     "name": "stderr",
     "output_type": "stream",
     "text": [
      "Using TensorFlow backend.\n"
     ]
    }
   ],
   "source": [
    "from __future__ import division\n",
    "from __future__ import print_function\n",
    "from __future__ import division\n",
    "from __future__ import print_function\n",
    "import numpy as np\n",
    "import os\n",
    "os.environ['TF_CPP_MIN_LOG_LEVEL'] = '2'\n",
    "# %tensorflow_version 1.14\n",
    "import tensorflow.compat.v1 as tf\n",
    "tf.disable_v2_behavior()\n",
    "import numpy.linalg as la\n",
    "import scipy.io as sio\n",
    "import math\n",
    "import sys\n",
    "import time\n",
    "import pdb\n",
    "import matplotlib.pyplot as plt\n",
    "import problem, network, train\n",
    "import blocksparsetoolbox as bst\n",
    "\n",
    "from scipy.linalg import toeplitz, circulant"
   ]
  },
  {
   "cell_type": "code",
   "execution_count": 2,
   "id": "5fcee3b8",
   "metadata": {},
   "outputs": [],
   "source": [
    "np.random.seed(1)\n",
    "tf.set_random_seed(1)"
   ]
  },
  {
   "cell_type": "code",
   "execution_count": 3,
   "id": "e3bd5340",
   "metadata": {},
   "outputs": [],
   "source": [
    "# Creating the mmv-problem: select circular matrix case 1-8"
   ]
  },
  {
   "cell_type": "code",
   "execution_count": 4,
   "id": "3598b936",
   "metadata": {},
   "outputs": [
    {
     "name": "stdout",
     "output_type": "stream",
     "text": [
      "rank(D^T@D)=28\n",
      "rank(D@D^T)=28\n",
      "rank(D)=59\n",
      "coherence = 0.9985346794128418\n"
     ]
    }
   ],
   "source": [
    "case = 5\n",
    "n = 60\n",
    "m = n\n",
    "d = 15\n",
    "\n",
    "T = np.zeros((n,n))\n",
    "T[0,-1]=1\n",
    "T[1:n,0:n-1]=np.eye(n-1)\n",
    "\n",
    "if case==1:\n",
    "  #1 Example: Random Circular Symmetric Matrix, where D^T@D has full rank\n",
    "  a = np.random.normal(size=(m))\n",
    "  D = circulant(a).astype('float32')\n",
    "  D = 1/2*(D+D.T)\n",
    "  D = 1/np.linalg.norm(D[:,0])*D\n",
    "  for i in range(1,n):\n",
    "    D[:,i]=T@D[:,i-1]\n",
    "\n",
    "  print('rank(D^T@D)='+str(np.linalg.matrix_rank(D.T@D)))\n",
    "  print('rank(D)='+str(np.linalg.matrix_rank(D)))\n",
    "  print('coherence = '+str(np.max(np.abs(D.T@D-np.eye(m)))))\n",
    "elif case==2:\n",
    "  #2 Example: Symmetric Circular Matrix, based upon discrete function values, where D^T@D has low rank\n",
    "\n",
    "  x = np.linspace(-1,1,n)\n",
    "  a = 0.5-2*x**2\n",
    "  D = circulant(a).astype('float32')\n",
    "  D = 1/np.linalg.norm(D[:,0])*D\n",
    "\n",
    "  print('rank(D^T@D)='+str(np.linalg.matrix_rank(D.T@D)))\n",
    "  print('rank(D)='+str(np.linalg.matrix_rank(D)))\n",
    "  print('coherence = '+str(np.max(np.abs(D.T@D-np.eye(m)))))\n",
    "elif case==3:\n",
    "  #3 Example: Symmetric Circular Matrix, based upon discrete function values, where D^T@D has low rank\n",
    "\n",
    "  x = np.linspace(-1,1,n)\n",
    "  a = (np.cos(1*np.pi*x))\n",
    "  #a = 1/np.linalg.norm(a)*np.abs(a) #no problem\n",
    "  a = 1/np.linalg.norm(a)*(a) #problem\n",
    "  D = circulant(a).astype('float32')\n",
    "\n",
    "  print('rank(D^T@D)='+str(np.linalg.matrix_rank(D.T@D)))\n",
    "  print('rank(D)='+str(np.linalg.matrix_rank(D)))\n",
    "  print('coherence = '+str(np.max(np.abs(D.T@D-np.eye(m)))))\n",
    "elif case==4:\n",
    "  #4 Example: Random Circular Matrix\n",
    "\n",
    "  a = np.random.normal(size=(m))\n",
    "  D = circulant(a).astype('float32')\n",
    "  D = 1/np.linalg.norm(D[:,0])*D\n",
    "\n",
    "  print('rank(D^T@D)='+str(np.linalg.matrix_rank(D.T@D)))\n",
    "  print('rank(D@D^T)='+str(np.linalg.matrix_rank(D@D.T)))\n",
    "  print('rank(D)='+str(np.linalg.matrix_rank(D)))\n",
    "  print('coherence = '+str(np.max(np.abs(D.T@D-np.eye(m)))))\n",
    "elif case==5:\n",
    "  #5 Example: Circular Matrix, based upon discrete function values,\n",
    "  \n",
    "  x = np.linspace(-1,1,n)\n",
    "  a = (np.sin(1*np.pi*x))\n",
    "  #a = 1/np.linalg.norm(a)*np.abs(a) #no problem\n",
    "  a = 1/np.linalg.norm(a)*(a) #problem\n",
    "  D = circulant(a).astype('float32')\n",
    "\n",
    "  print('rank(D^T@D)='+str(np.linalg.matrix_rank(D.T@D)))\n",
    "  print('rank(D@D^T)='+str(np.linalg.matrix_rank(D@D.T)))\n",
    "  print('rank(D)='+str(np.linalg.matrix_rank(D)))\n",
    "  print('coherence = '+str(np.max(np.abs(D.T@D-np.eye(m)))))\n",
    "elif case==6:\n",
    "  #6 Example: Circular Matrix, based upon discrete function values,\n",
    "  \n",
    "  x = np.linspace(-1,1,n)\n",
    "  a = (np.exp(1*np.pi*x))\n",
    "  #a = 1/np.linalg.norm(a)*np.abs(a) #no problem\n",
    "  a = 1/np.linalg.norm(a)*(a) #problem\n",
    "  D = circulant(a).astype('float32')\n",
    "\n",
    "  print('rank(D^T@D)='+str(np.linalg.matrix_rank(D.T@D)))\n",
    "  print('rank(D@D^T)='+str(np.linalg.matrix_rank(D@D.T)))\n",
    "  print('rank(D)='+str(np.linalg.matrix_rank(D)))\n",
    "  print('coherence = '+str(np.max(np.abs(D.T@D-np.eye(m)))))\n",
    "elif case==7:\n",
    "  #7 Example: Circular Matrix, not symmetric but low rank\n",
    "  x = np.linspace(-1,1,n)\n",
    "  a = np.cos(np.pi*x)\n",
    "  a[30:n]=0\n",
    "  D = circulant(a).astype('float32')\n",
    "  D = 1/np.linalg.norm(D[:,0])*D\n",
    "\n",
    "  print('rank(D^T@D)='+str(np.linalg.matrix_rank(D.T@D))) \n",
    "  print('rank(D@D^T)='+str(np.linalg.matrix_rank(D@D.T)))\n",
    "  print('rank(D)='+str(np.linalg.matrix_rank(D)))\n",
    "  print('coherence = '+str(np.max(np.abs(D.T@D-np.eye(m)))))\n",
    "elif case==8:\n",
    "  #8 Example: Circular Matrix, \n",
    "  x = np.linspace(-1,1,n)\n",
    "  a = np.exp(np.pi*x)\n",
    "  a[30:n]=a[0:30]\n",
    "  D = circulant(a).astype('float32')\n",
    "  D = 1/np.linalg.norm(D[:,0])*D\n",
    "\n",
    "  print('rank(D^T@D)='+str(np.linalg.matrix_rank(D.T@D))) \n",
    "  print('rank(D@D^T)='+str(np.linalg.matrix_rank(D@D.T)))\n",
    "  print('rank(D)='+str(np.linalg.matrix_rank(D)))\n",
    "  print('coherence = '+str(np.max(np.abs(D.T@D-np.eye(m)))))"
   ]
  },
  {
   "cell_type": "code",
   "execution_count": 5,
   "id": "1875a58a",
   "metadata": {},
   "outputs": [
    {
     "name": "stdout",
     "output_type": "stream",
     "text": [
      "WARNING:tensorflow:From /Users/hauffen/Documents/Python/Block-ALISTA-main/problem.py:100: to_float (from tensorflow.python.ops.math_ops) is deprecated and will be removed in a future version.\n",
      "Instructions for updating:\n",
      "Use `tf.cast` instead.\n"
     ]
    }
   ],
   "source": [
    "SNR = 30 # signal to noise ratio given in dB\n",
    "MC = 250 # batch number\n",
    "prob = problem.mmv_problem(D,L=n, B=d, MC=MC, pnz=0.1, SNR_dB=SNR)"
   ]
  },
  {
   "cell_type": "code",
   "execution_count": 6,
   "id": "2ccfa9b0",
   "metadata": {},
   "outputs": [
    {
     "data": {
      "text/plain": [
       "Text(0.5, 1.0, 'y')"
      ]
     },
     "execution_count": 6,
     "metadata": {},
     "output_type": "execute_result"
    },
    {
     "data": {
      "image/png": "[encoded data removed]",
      "text/plain": [
       "<Figure size 1080x360 with 3 Axes>"
      ]
     },
     "metadata": {
      "needs_background": "light"
     },
     "output_type": "display_data"
    }
   ],
   "source": [
    "plt.rcParams['figure.figsize'] = [15, 5]\n",
    "fig, ax = plt.subplots(1,3)\n",
    "ax[0].imshow(prob.A)\n",
    "ax[0].set_title('Matrix A')\n",
    "ax[1].plot(prob.xval[:,0])\n",
    "ax[1].set_title('x')\n",
    "ax[2].plot(prob.yval[:,0])\n",
    "ax[2].set_title('y')\n"
   ]
  },
  {
   "cell_type": "code",
   "execution_count": 7,
   "id": "e410bce9",
   "metadata": {},
   "outputs": [],
   "source": [
    "# creating the network and setup training:\n",
    "\n",
    "T = 6 # number of layers/iterations"
   ]
  },
  {
   "cell_type": "code",
   "execution_count": 8,
   "id": "15fb17eb",
   "metadata": {},
   "outputs": [
    {
     "name": "stderr",
     "output_type": "stream",
     "text": [
      "/Users/hauffen/Documents/Python/Block-ALISTA-main/network.py:26: RuntimeWarning: divide by zero encountered in true_divide\n",
      "  k_hat=np.conj(1/s)\n",
      "/Users/hauffen/Documents/Python/Block-ALISTA-main/network.py:26: RuntimeWarning: invalid value encountered in true_divide\n",
      "  k_hat=np.conj(1/s)\n"
     ]
    }
   ],
   "source": [
    "# computing the analytical weight matrix for ALBISTA and NA-ALBISTA\n",
    "\n",
    "W = network.SolveViaFFT(prob.A_s) # if A_s represents a circular convolution we can easily compute the analytical \n",
    "                                  # weight matrix by inverting the conjugate FFT of k, where A_s=circ(k)"
   ]
  },
  {
   "cell_type": "code",
   "execution_count": 10,
   "id": "1256f95d",
   "metadata": {},
   "outputs": [
    {
     "name": "stdout",
     "output_type": "stream",
     "text": [
      "Took me 0.007 minutes for setup training\n"
     ]
    }
   ],
   "source": [
    "layers = network.build_CircALBISTA(prob, np.kron(W,np.eye(d)), T, initial_lambda=.1, initial_gamma=1)\n",
    "start = time.time()\n",
    "training_stages = train.setup_training(layers,prob,trinit=1e-3)\n",
    "end = time.time()\n",
    "print( 'Took me {totaltime:.3f} minutes for setup training'.format(totaltime = (end-start)/60))"
   ]
  },
  {
   "cell_type": "code",
   "execution_count": 11,
   "id": "01b684ca",
   "metadata": {},
   "outputs": [],
   "source": [
    "# Train!"
   ]
  },
  {
   "cell_type": "code",
   "execution_count": 12,
   "id": "dc6a3f7d",
   "metadata": {},
   "outputs": [
    {
     "name": "stdout",
     "output_type": "stream",
     "text": [
      "norms xval:150.2660275 yval:147.5758141\n",
      "CircALBISTA T=1 extending lam_0_1:0,gamma_0_1:0\n",
      "i=0      nmse=6.828949 dB (best=6.828949)\n",
      "i=1000   nmse=-1.375066 dB (best=-1.375066)\n",
      "i=2000   nmse=-1.601797 dB (best=-1.601797)\n",
      "i=3000   nmse=-1.755024 dB (best=-1.755024)\n",
      "i=4000   nmse=-1.964545 dB (best=-1.964545)\n",
      "i=5000   nmse=-2.219408 dB (best=-2.219408)\n",
      "i=6000   nmse=-2.492309 dB (best=-2.492309)\n",
      "i=7000   nmse=-2.748627 dB (best=-2.748627)\n",
      "i=8000   nmse=-2.960591 dB (best=-2.960591)\n",
      "i=9000   nmse=-3.116820 dB (best=-3.116821)\n",
      "i=10000  nmse=-3.218778 dB (best=-3.218778)\n",
      "i=11000  nmse=-3.276384 dB (best=-3.276384)\n",
      "i=12000  nmse=-3.302665 dB (best=-3.302665)\n",
      "i=13000  nmse=-3.311690 dB (best=-3.311690)\n",
      "i=14000  nmse=-3.313804 dB (best=-3.313804)\n",
      "i=15000  nmse=-3.314022 dB (best=-3.314128)\n",
      "i=16000  nmse=-3.314186 dB (best=-3.314187)\n",
      "i=17000  nmse=-3.314195 dB (best=-3.314198)\n",
      "i=18000  nmse=-3.314156 dB (best=-3.314201)\n",
      "i=19000  nmse=-3.314197 dB (best=-3.314201)\n",
      "i=20000  nmse=-3.314113 dB (best=-3.314201)\n",
      "i=21000  nmse=-3.313906 dB (best=-3.314201)\n",
      "i=22000  nmse=-3.314193 dB (best=-3.314202)\n",
      "i=23000  nmse=-3.314117 dB (best=-3.314207)\n",
      "i=24000  nmse=-3.314191 dB (best=-3.314207)\n",
      "i=25000  nmse=-3.314123 dB (best=-3.314207)\n",
      "i=26000  nmse=-3.314161 dB (best=-3.314207)\n",
      "i=27000  nmse=-3.314192 dB (best=-3.314207)\n",
      "i=28000  nmse=-3.314188 dB (best=-3.314207)\n",
      "Took me 14.305 minutes, or 30.7 ms per iteration\n",
      "CircALBISTA T=2 extending lam_1:0,gamma_1:0\n",
      "i=0      nmse=6.822014 dB (best=6.822015)\n",
      "i=150    nmse=5.068610 dB (best=5.068610)"
     ]
    },
    {
     "ename": "KeyboardInterrupt",
     "evalue": "",
     "output_type": "error",
     "traceback": [
      "\u001b[0;31m---------------------------------------------------------------------------\u001b[0m",
      "\u001b[0;31mKeyboardInterrupt\u001b[0m                         Traceback (most recent call last)",
      "\u001b[0;32m/var/folders/x_/tzvvpz9d5fngtpfgdd7chxy40000gn/T/ipykernel_64376/3711157818.py\u001b[0m in \u001b[0;36m<module>\u001b[0;34m\u001b[0m\n\u001b[0;32m----> 1\u001b[0;31m \u001b[0msess\u001b[0m \u001b[0;34m=\u001b[0m \u001b[0mtrain\u001b[0m\u001b[0;34m.\u001b[0m\u001b[0mdo_training\u001b[0m\u001b[0;34m(\u001b[0m\u001b[0mtraining_stages\u001b[0m\u001b[0;34m,\u001b[0m\u001b[0mprob\u001b[0m\u001b[0;34m,\u001b[0m\u001b[0;34m'CircALBISTA_UP_T'\u001b[0m\u001b[0;34m+\u001b[0m\u001b[0mstr\u001b[0m\u001b[0;34m(\u001b[0m\u001b[0mT\u001b[0m\u001b[0;34m)\u001b[0m\u001b[0;34m+\u001b[0m\u001b[0;34m'_SNRdB_'\u001b[0m\u001b[0;34m+\u001b[0m\u001b[0mstr\u001b[0m\u001b[0;34m(\u001b[0m\u001b[0mSNR\u001b[0m\u001b[0;34m)\u001b[0m\u001b[0;34m+\u001b[0m\u001b[0;34m'batch'\u001b[0m\u001b[0;34m+\u001b[0m\u001b[0mstr\u001b[0m\u001b[0;34m(\u001b[0m\u001b[0mMC\u001b[0m\u001b[0;34m)\u001b[0m\u001b[0;34m+\u001b[0m\u001b[0;34m'.npz'\u001b[0m\u001b[0;34m)\u001b[0m\u001b[0;34m\u001b[0m\u001b[0;34m\u001b[0m\u001b[0m\n\u001b[0m",
      "\u001b[0;32m~/Documents/Python/Block-ALISTA-main/train.py\u001b[0m in \u001b[0;36mdo_training\u001b[0;34m(training_stages, prob, savefile, ivl, maxit, better_wait)\u001b[0m\n\u001b[1;32m    134\u001b[0m                     \u001b[0;32mif\u001b[0m \u001b[0mage_of_best\u001b[0m \u001b[0;34m*\u001b[0m \u001b[0mivl\u001b[0m \u001b[0;34m>\u001b[0m \u001b[0mbetter_wait\u001b[0m\u001b[0;34m:\u001b[0m\u001b[0;34m\u001b[0m\u001b[0;34m\u001b[0m\u001b[0m\n\u001b[1;32m    135\u001b[0m                         \u001b[0;32mbreak\u001b[0m  \u001b[0;31m# if it has not improved on the best answer for quite some time, then move along\u001b[0m\u001b[0;34m\u001b[0m\u001b[0;34m\u001b[0m\u001b[0m\n\u001b[0;32m--> 136\u001b[0;31m             \u001b[0my\u001b[0m\u001b[0;34m,\u001b[0m \u001b[0mx\u001b[0m \u001b[0;34m=\u001b[0m \u001b[0mprob\u001b[0m\u001b[0;34m(\u001b[0m\u001b[0msess\u001b[0m\u001b[0;34m)\u001b[0m\u001b[0;34m\u001b[0m\u001b[0;34m\u001b[0m\u001b[0m\n\u001b[0m\u001b[1;32m    137\u001b[0m \u001b[0;34m\u001b[0m\u001b[0m\n\u001b[1;32m    138\u001b[0m             \u001b[0;31m# if name == 'LBISTA T=1':\u001b[0m\u001b[0;34m\u001b[0m\u001b[0;34m\u001b[0m\u001b[0;34m\u001b[0m\u001b[0m\n",
      "\u001b[0;32m~/Documents/Python/Block-ALISTA-main/problem.py\u001b[0m in \u001b[0;36m__call__\u001b[0;34m(self, sess)\u001b[0m\n\u001b[1;32m     29\u001b[0m     \u001b[0;32mdef\u001b[0m \u001b[0m__call__\u001b[0m\u001b[0;34m(\u001b[0m\u001b[0mself\u001b[0m\u001b[0;34m,\u001b[0m \u001b[0msess\u001b[0m\u001b[0;34m)\u001b[0m\u001b[0;34m:\u001b[0m\u001b[0;34m\u001b[0m\u001b[0;34m\u001b[0m\u001b[0m\n\u001b[1;32m     30\u001b[0m         \u001b[0;34m\"generates y,x pair for training\"\u001b[0m\u001b[0;34m\u001b[0m\u001b[0;34m\u001b[0m\u001b[0m\n\u001b[0;32m---> 31\u001b[0;31m         \u001b[0;32mreturn\u001b[0m \u001b[0msess\u001b[0m\u001b[0;34m.\u001b[0m\u001b[0mrun\u001b[0m\u001b[0;34m(\u001b[0m\u001b[0;34m(\u001b[0m\u001b[0mself\u001b[0m\u001b[0;34m.\u001b[0m\u001b[0mygen_\u001b[0m\u001b[0;34m,\u001b[0m \u001b[0mself\u001b[0m\u001b[0;34m.\u001b[0m\u001b[0mxgen_\u001b[0m\u001b[0;34m)\u001b[0m\u001b[0;34m)\u001b[0m\u001b[0;34m\u001b[0m\u001b[0;34m\u001b[0m\u001b[0m\n\u001b[0m\u001b[1;32m     32\u001b[0m \u001b[0;34m\u001b[0m\u001b[0m\n\u001b[1;32m     33\u001b[0m \u001b[0;34m\u001b[0m\u001b[0m\n",
      "\u001b[0;32m~/opt/anaconda3/envs/tf-jupyter/lib/python3.7/site-packages/tensorflow_core/python/client/session.py\u001b[0m in \u001b[0;36mrun\u001b[0;34m(self, fetches, feed_dict, options, run_metadata)\u001b[0m\n\u001b[1;32m    954\u001b[0m     \u001b[0;32mtry\u001b[0m\u001b[0;34m:\u001b[0m\u001b[0;34m\u001b[0m\u001b[0;34m\u001b[0m\u001b[0m\n\u001b[1;32m    955\u001b[0m       result = self._run(None, fetches, feed_dict, options_ptr,\n\u001b[0;32m--> 956\u001b[0;31m                          run_metadata_ptr)\n\u001b[0m\u001b[1;32m    957\u001b[0m       \u001b[0;32mif\u001b[0m \u001b[0mrun_metadata\u001b[0m\u001b[0;34m:\u001b[0m\u001b[0;34m\u001b[0m\u001b[0;34m\u001b[0m\u001b[0m\n\u001b[1;32m    958\u001b[0m         \u001b[0mproto_data\u001b[0m \u001b[0;34m=\u001b[0m \u001b[0mtf_session\u001b[0m\u001b[0;34m.\u001b[0m\u001b[0mTF_GetBuffer\u001b[0m\u001b[0;34m(\u001b[0m\u001b[0mrun_metadata_ptr\u001b[0m\u001b[0;34m)\u001b[0m\u001b[0;34m\u001b[0m\u001b[0;34m\u001b[0m\u001b[0m\n",
      "\u001b[0;32m~/opt/anaconda3/envs/tf-jupyter/lib/python3.7/site-packages/tensorflow_core/python/client/session.py\u001b[0m in \u001b[0;36m_run\u001b[0;34m(self, handle, fetches, feed_dict, options, run_metadata)\u001b[0m\n\u001b[1;32m   1178\u001b[0m     \u001b[0;32mif\u001b[0m \u001b[0mfinal_fetches\u001b[0m \u001b[0;32mor\u001b[0m \u001b[0mfinal_targets\u001b[0m \u001b[0;32mor\u001b[0m \u001b[0;34m(\u001b[0m\u001b[0mhandle\u001b[0m \u001b[0;32mand\u001b[0m \u001b[0mfeed_dict_tensor\u001b[0m\u001b[0;34m)\u001b[0m\u001b[0;34m:\u001b[0m\u001b[0;34m\u001b[0m\u001b[0;34m\u001b[0m\u001b[0m\n\u001b[1;32m   1179\u001b[0m       results = self._do_run(handle, final_targets, final_fetches,\n\u001b[0;32m-> 1180\u001b[0;31m                              feed_dict_tensor, options, run_metadata)\n\u001b[0m\u001b[1;32m   1181\u001b[0m     \u001b[0;32melse\u001b[0m\u001b[0;34m:\u001b[0m\u001b[0;34m\u001b[0m\u001b[0;34m\u001b[0m\u001b[0m\n\u001b[1;32m   1182\u001b[0m       \u001b[0mresults\u001b[0m \u001b[0;34m=\u001b[0m \u001b[0;34m[\u001b[0m\u001b[0;34m]\u001b[0m\u001b[0;34m\u001b[0m\u001b[0;34m\u001b[0m\u001b[0m\n",
      "\u001b[0;32m~/opt/anaconda3/envs/tf-jupyter/lib/python3.7/site-packages/tensorflow_core/python/client/session.py\u001b[0m in \u001b[0;36m_do_run\u001b[0;34m(self, handle, target_list, fetch_list, feed_dict, options, run_metadata)\u001b[0m\n\u001b[1;32m   1357\u001b[0m     \u001b[0;32mif\u001b[0m \u001b[0mhandle\u001b[0m \u001b[0;32mis\u001b[0m \u001b[0;32mNone\u001b[0m\u001b[0;34m:\u001b[0m\u001b[0;34m\u001b[0m\u001b[0;34m\u001b[0m\u001b[0m\n\u001b[1;32m   1358\u001b[0m       return self._do_call(_run_fn, feeds, fetches, targets, options,\n\u001b[0;32m-> 1359\u001b[0;31m                            run_metadata)\n\u001b[0m\u001b[1;32m   1360\u001b[0m     \u001b[0;32melse\u001b[0m\u001b[0;34m:\u001b[0m\u001b[0;34m\u001b[0m\u001b[0;34m\u001b[0m\u001b[0m\n\u001b[1;32m   1361\u001b[0m       \u001b[0;32mreturn\u001b[0m \u001b[0mself\u001b[0m\u001b[0;34m.\u001b[0m\u001b[0m_do_call\u001b[0m\u001b[0;34m(\u001b[0m\u001b[0m_prun_fn\u001b[0m\u001b[0;34m,\u001b[0m \u001b[0mhandle\u001b[0m\u001b[0;34m,\u001b[0m \u001b[0mfeeds\u001b[0m\u001b[0;34m,\u001b[0m \u001b[0mfetches\u001b[0m\u001b[0;34m)\u001b[0m\u001b[0;34m\u001b[0m\u001b[0;34m\u001b[0m\u001b[0m\n",
      "\u001b[0;32m~/opt/anaconda3/envs/tf-jupyter/lib/python3.7/site-packages/tensorflow_core/python/client/session.py\u001b[0m in \u001b[0;36m_do_call\u001b[0;34m(self, fn, *args)\u001b[0m\n\u001b[1;32m   1363\u001b[0m   \u001b[0;32mdef\u001b[0m \u001b[0m_do_call\u001b[0m\u001b[0;34m(\u001b[0m\u001b[0mself\u001b[0m\u001b[0;34m,\u001b[0m \u001b[0mfn\u001b[0m\u001b[0;34m,\u001b[0m \u001b[0;34m*\u001b[0m\u001b[0margs\u001b[0m\u001b[0;34m)\u001b[0m\u001b[0;34m:\u001b[0m\u001b[0;34m\u001b[0m\u001b[0;34m\u001b[0m\u001b[0m\n\u001b[1;32m   1364\u001b[0m     \u001b[0;32mtry\u001b[0m\u001b[0;34m:\u001b[0m\u001b[0;34m\u001b[0m\u001b[0;34m\u001b[0m\u001b[0m\n\u001b[0;32m-> 1365\u001b[0;31m       \u001b[0;32mreturn\u001b[0m \u001b[0mfn\u001b[0m\u001b[0;34m(\u001b[0m\u001b[0;34m*\u001b[0m\u001b[0margs\u001b[0m\u001b[0;34m)\u001b[0m\u001b[0;34m\u001b[0m\u001b[0;34m\u001b[0m\u001b[0m\n\u001b[0m\u001b[1;32m   1366\u001b[0m     \u001b[0;32mexcept\u001b[0m \u001b[0merrors\u001b[0m\u001b[0;34m.\u001b[0m\u001b[0mOpError\u001b[0m \u001b[0;32mas\u001b[0m \u001b[0me\u001b[0m\u001b[0;34m:\u001b[0m\u001b[0;34m\u001b[0m\u001b[0;34m\u001b[0m\u001b[0m\n\u001b[1;32m   1367\u001b[0m       \u001b[0mmessage\u001b[0m \u001b[0;34m=\u001b[0m \u001b[0mcompat\u001b[0m\u001b[0;34m.\u001b[0m\u001b[0mas_text\u001b[0m\u001b[0;34m(\u001b[0m\u001b[0me\u001b[0m\u001b[0;34m.\u001b[0m\u001b[0mmessage\u001b[0m\u001b[0;34m)\u001b[0m\u001b[0;34m\u001b[0m\u001b[0;34m\u001b[0m\u001b[0m\n",
      "\u001b[0;32m~/opt/anaconda3/envs/tf-jupyter/lib/python3.7/site-packages/tensorflow_core/python/client/session.py\u001b[0m in \u001b[0;36m_run_fn\u001b[0;34m(feed_dict, fetch_list, target_list, options, run_metadata)\u001b[0m\n\u001b[1;32m   1348\u001b[0m       \u001b[0mself\u001b[0m\u001b[0;34m.\u001b[0m\u001b[0m_extend_graph\u001b[0m\u001b[0;34m(\u001b[0m\u001b[0;34m)\u001b[0m\u001b[0;34m\u001b[0m\u001b[0;34m\u001b[0m\u001b[0m\n\u001b[1;32m   1349\u001b[0m       return self._call_tf_sessionrun(options, feed_dict, fetch_list,\n\u001b[0;32m-> 1350\u001b[0;31m                                       target_list, run_metadata)\n\u001b[0m\u001b[1;32m   1351\u001b[0m \u001b[0;34m\u001b[0m\u001b[0m\n\u001b[1;32m   1352\u001b[0m     \u001b[0;32mdef\u001b[0m \u001b[0m_prun_fn\u001b[0m\u001b[0;34m(\u001b[0m\u001b[0mhandle\u001b[0m\u001b[0;34m,\u001b[0m \u001b[0mfeed_dict\u001b[0m\u001b[0;34m,\u001b[0m \u001b[0mfetch_list\u001b[0m\u001b[0;34m)\u001b[0m\u001b[0;34m:\u001b[0m\u001b[0;34m\u001b[0m\u001b[0;34m\u001b[0m\u001b[0m\n",
      "\u001b[0;32m~/opt/anaconda3/envs/tf-jupyter/lib/python3.7/site-packages/tensorflow_core/python/client/session.py\u001b[0m in \u001b[0;36m_call_tf_sessionrun\u001b[0;34m(self, options, feed_dict, fetch_list, target_list, run_metadata)\u001b[0m\n\u001b[1;32m   1441\u001b[0m     return tf_session.TF_SessionRun_wrapper(self._session, options, feed_dict,\n\u001b[1;32m   1442\u001b[0m                                             \u001b[0mfetch_list\u001b[0m\u001b[0;34m,\u001b[0m \u001b[0mtarget_list\u001b[0m\u001b[0;34m,\u001b[0m\u001b[0;34m\u001b[0m\u001b[0;34m\u001b[0m\u001b[0m\n\u001b[0;32m-> 1443\u001b[0;31m                                             run_metadata)\n\u001b[0m\u001b[1;32m   1444\u001b[0m \u001b[0;34m\u001b[0m\u001b[0m\n\u001b[1;32m   1445\u001b[0m   \u001b[0;32mdef\u001b[0m \u001b[0m_call_tf_sessionprun\u001b[0m\u001b[0;34m(\u001b[0m\u001b[0mself\u001b[0m\u001b[0;34m,\u001b[0m \u001b[0mhandle\u001b[0m\u001b[0;34m,\u001b[0m \u001b[0mfeed_dict\u001b[0m\u001b[0;34m,\u001b[0m \u001b[0mfetch_list\u001b[0m\u001b[0;34m)\u001b[0m\u001b[0;34m:\u001b[0m\u001b[0;34m\u001b[0m\u001b[0;34m\u001b[0m\u001b[0m\n",
      "\u001b[0;31mKeyboardInterrupt\u001b[0m: "
     ]
    }
   ],
   "source": [
    "sess = train.do_training(training_stages,prob,'trainings/CircALBISTA_UP_T'+str(T)+'_SNRdB_'+str(SNR)+'batch'+str(MC)+'.npz')"
   ]
  },
  {
   "cell_type": "code",
   "execution_count": null,
   "id": "7d47767a",
   "metadata": {},
   "outputs": [],
   "source": [
    "# Evaluating"
   ]
  },
  {
   "cell_type": "code",
   "execution_count": null,
   "id": "dea145bf",
   "metadata": {},
   "outputs": [],
   "source": [
    "y,x = prob(sess)\n",
    "MC = x.shape[-1]\n",
    "t=0\n",
    "l2norm=np.zeros(((T),MC))\n",
    "nmse_dbLISTA=np.zeros(((T),MC))\n",
    "for name, xhat_, var_list in layers:\n",
    "    if not name=='Linear':\n",
    "        xhat = sess.run(xhat_, feed_dict={prob.y_: y, prob.x_: x})\n",
    "        for i in range(0, x.shape[1]):\n",
    "            nmse_dbLISTA[t,i]=bst.nmse(xhat[:,i, np.newaxis], x[:,i, np.newaxis])\n",
    "            l2norm[t, i] = bst.l21norm(xhat[:, i]- x[:, i], prob.L, prob.B)\n",
    "        t+=1\n",
    "\n",
    "nmse_dbLISTAMean = 10*np.log10(np.mean(np.ma.masked_invalid(nmse_dbLISTA), axis=1))\n",
    "l2normLISTAMean = np.mean(np.ma.masked_invalid(l2norm), axis=1)\n",
    "l2normmax = np.max(l2norm, axis=1)\n",
    "\n",
    "lam = np.zeros(T)\n",
    "gam = np.zeros(T)\n",
    "k = 1\n",
    "for name, xhat_, var_list in layers:\n",
    "    if not name == 'Linear':\n",
    "        lam[k-1], gam[k-1] = sess.run([layers[k-1][2][0], layers[k-1][2][1]])\n",
    "        k = k+1\n",
    "\n",
    "plt.plot(nmse_dbLISTAMean)"
   ]
  },
  {
   "cell_type": "code",
   "execution_count": null,
   "id": "6ce5eb46",
   "metadata": {},
   "outputs": [],
   "source": []
  }
 ],
 "metadata": {
  "kernelspec": {
   "display_name": "Python 3 (ipykernel)",
   "language": "python",
   "name": "python3"
  },
  "language_info": {
   "codemirror_mode": {
    "name": "ipython",
    "version": 3
   },
   "file_extension": ".py",
   "mimetype": "text/x-python",
   "name": "python",
   "nbconvert_exporter": "python",
   "pygments_lexer": "ipython3",
   "version": "3.7.11"
  }
 },
 "nbformat": 4,
 "nbformat_minor": 5
}
