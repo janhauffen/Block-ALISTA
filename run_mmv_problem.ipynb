{
  "cells": [
    {
      "cell_type": "code",
      "execution_count": 1,
      "id": "5cdd0313",
      "metadata": {
        "colab": {
          "base_uri": "https://localhost:8080/"
        },
        "id": "5cdd0313",
        "outputId": "8158eb16-1037-4774-c1e9-fff071d9f9b3"
      },
      "outputs": [
        {
          "output_type": "stream",
          "name": "stdout",
          "text": [
            "WARNING:tensorflow:From /usr/local/lib/python3.7/dist-packages/tensorflow/python/compat/v2_compat.py:107: disable_resource_variables (from tensorflow.python.ops.variable_scope) is deprecated and will be removed in a future version.\n",
            "Instructions for updating:\n",
            "non-resource variables are not supported in the long term\n"
          ]
        }
      ],
      "source": [
        "from __future__ import division\n",
        "from __future__ import print_function\n",
        "from __future__ import division\n",
        "from __future__ import print_function\n",
        "import numpy as np\n",
        "import os\n",
        "os.environ['TF_CPP_MIN_LOG_LEVEL'] = '2'\n",
        "# %tensorflow_version 1.14\n",
        "import tensorflow.compat.v1 as tf\n",
        "tf.disable_v2_behavior()\n",
        "import numpy.linalg as la\n",
        "import scipy.io as sio\n",
        "import math\n",
        "import sys\n",
        "import time\n",
        "import pdb\n",
        "import matplotlib.pyplot as plt\n",
        "import problem, network, train\n",
        "import blocksparsetoolbox as bst\n",
        "\n",
        "from scipy.linalg import toeplitz, circulant"
      ]
    },
    {
      "cell_type": "code",
      "execution_count": 2,
      "id": "5fcee3b8",
      "metadata": {
        "id": "5fcee3b8"
      },
      "outputs": [],
      "source": [
        "np.random.seed(1)\n",
        "tf.set_random_seed(1)"
      ]
    },
    {
      "cell_type": "code",
      "execution_count": 3,
      "id": "e3bd5340",
      "metadata": {
        "id": "e3bd5340"
      },
      "outputs": [],
      "source": [
        "# Creating the mmv-problem: select circular matrix case 1-8"
      ]
    },
    {
      "cell_type": "code",
      "execution_count": 4,
      "id": "3598b936",
      "metadata": {
        "colab": {
          "base_uri": "https://localhost:8080/"
        },
        "id": "3598b936",
        "outputId": "55d0812f-369c-4fde-99bc-6c15d3d23c46"
      },
      "outputs": [
        {
          "output_type": "stream",
          "name": "stdout",
          "text": [
            "rank(D^T@D)=28\n",
            "rank(D@D^T)=28\n",
            "rank(D)=59\n",
            "coherence = 0.9985346794128418\n"
          ]
        }
      ],
      "source": [
        "case = 5\n",
        "n = 60\n",
        "m = n\n",
        "d = 15\n",
        "\n",
        "T = np.zeros((n,n))\n",
        "T[0,-1]=1\n",
        "T[1:n,0:n-1]=np.eye(n-1)\n",
        "\n",
        "if case==1:\n",
        "  #1 Example: Random Circular Symmetric Matrix, where D^T@D has full rank\n",
        "  a = np.random.normal(size=(m))\n",
        "  D = circulant(a).astype('float32')\n",
        "  D = 1/2*(D+D.T)\n",
        "  D = 1/np.linalg.norm(D[:,0])*D\n",
        "  for i in range(1,n):\n",
        "    D[:,i]=T@D[:,i-1]\n",
        "\n",
        "  print('rank(D^T@D)='+str(np.linalg.matrix_rank(D.T@D)))\n",
        "  print('rank(D)='+str(np.linalg.matrix_rank(D)))\n",
        "  print('coherence = '+str(np.max(np.abs(D.T@D-np.eye(m)))))\n",
        "elif case==2:\n",
        "  #2 Example: Symmetric Circular Matrix, based upon discrete function values, where D^T@D has low rank\n",
        "\n",
        "  x = np.linspace(-1,1,n)\n",
        "  a = 0.5-2*x**2\n",
        "  D = circulant(a).astype('float32')\n",
        "  D = 1/np.linalg.norm(D[:,0])*D\n",
        "\n",
        "  print('rank(D^T@D)='+str(np.linalg.matrix_rank(D.T@D)))\n",
        "  print('rank(D)='+str(np.linalg.matrix_rank(D)))\n",
        "  print('coherence = '+str(np.max(np.abs(D.T@D-np.eye(m)))))\n",
        "elif case==3:\n",
        "  #3 Example: Symmetric Circular Matrix, based upon discrete function values, where D^T@D has low rank\n",
        "\n",
        "  x = np.linspace(-1,1,n)\n",
        "  a = (np.cos(1*np.pi*x))\n",
        "  #a = 1/np.linalg.norm(a)*np.abs(a) #no problem\n",
        "  a = 1/np.linalg.norm(a)*(a) #problem\n",
        "  D = circulant(a).astype('float32')\n",
        "\n",
        "  print('rank(D^T@D)='+str(np.linalg.matrix_rank(D.T@D)))\n",
        "  print('rank(D)='+str(np.linalg.matrix_rank(D)))\n",
        "  print('coherence = '+str(np.max(np.abs(D.T@D-np.eye(m)))))\n",
        "elif case==4:\n",
        "  #4 Example: Random Circular Matrix\n",
        "\n",
        "  a = np.random.normal(size=(m))\n",
        "  D = circulant(a).astype('float32')\n",
        "  D = 1/np.linalg.norm(D[:,0])*D\n",
        "\n",
        "  print('rank(D^T@D)='+str(np.linalg.matrix_rank(D.T@D)))\n",
        "  print('rank(D@D^T)='+str(np.linalg.matrix_rank(D@D.T)))\n",
        "  print('rank(D)='+str(np.linalg.matrix_rank(D)))\n",
        "  print('coherence = '+str(np.max(np.abs(D.T@D-np.eye(m)))))\n",
        "elif case==5:\n",
        "  #5 Example: Circular Matrix, based upon discrete function values,\n",
        "  \n",
        "  x = np.linspace(-1,1,n)\n",
        "  a = (np.sin(1*np.pi*x))\n",
        "  #a = 1/np.linalg.norm(a)*np.abs(a) #no problem\n",
        "  a = 1/np.linalg.norm(a)*(a) #problem\n",
        "  D = circulant(a).astype('float32')\n",
        "\n",
        "  print('rank(D^T@D)='+str(np.linalg.matrix_rank(D.T@D)))\n",
        "  print('rank(D@D^T)='+str(np.linalg.matrix_rank(D@D.T)))\n",
        "  print('rank(D)='+str(np.linalg.matrix_rank(D)))\n",
        "  print('coherence = '+str(np.max(np.abs(D.T@D-np.eye(m)))))\n",
        "elif case==6:\n",
        "  #6 Example: Circular Matrix, based upon discrete function values,\n",
        "  \n",
        "  x = np.linspace(-1,1,n)\n",
        "  a = (np.exp(1*np.pi*x))\n",
        "  #a = 1/np.linalg.norm(a)*np.abs(a) #no problem\n",
        "  a = 1/np.linalg.norm(a)*(a) #problem\n",
        "  D = circulant(a).astype('float32')\n",
        "\n",
        "  print('rank(D^T@D)='+str(np.linalg.matrix_rank(D.T@D)))\n",
        "  print('rank(D@D^T)='+str(np.linalg.matrix_rank(D@D.T)))\n",
        "  print('rank(D)='+str(np.linalg.matrix_rank(D)))\n",
        "  print('coherence = '+str(np.max(np.abs(D.T@D-np.eye(m)))))\n",
        "elif case==7:\n",
        "  #7 Example: Circular Matrix, not symmetric but low rank\n",
        "  x = np.linspace(-1,1,n)\n",
        "  a = np.cos(np.pi*x)\n",
        "  a[30:n]=0\n",
        "  D = circulant(a).astype('float32')\n",
        "  D = 1/np.linalg.norm(D[:,0])*D\n",
        "\n",
        "  print('rank(D^T@D)='+str(np.linalg.matrix_rank(D.T@D))) \n",
        "  print('rank(D@D^T)='+str(np.linalg.matrix_rank(D@D.T)))\n",
        "  print('rank(D)='+str(np.linalg.matrix_rank(D)))\n",
        "  print('coherence = '+str(np.max(np.abs(D.T@D-np.eye(m)))))\n",
        "elif case==8:\n",
        "  #8 Example: Circular Matrix, \n",
        "  x = np.linspace(-1,1,n)\n",
        "  a = np.exp(np.pi*x)\n",
        "  a[30:n]=a[0:30]\n",
        "  D = circulant(a).astype('float32')\n",
        "  D = 1/np.linalg.norm(D[:,0])*D\n",
        "\n",
        "  print('rank(D^T@D)='+str(np.linalg.matrix_rank(D.T@D))) \n",
        "  print('rank(D@D^T)='+str(np.linalg.matrix_rank(D@D.T)))\n",
        "  print('rank(D)='+str(np.linalg.matrix_rank(D)))\n",
        "  print('coherence = '+str(np.max(np.abs(D.T@D-np.eye(m)))))"
      ]
    },
    {
      "cell_type": "code",
      "execution_count": 5,
      "id": "1875a58a",
      "metadata": {
        "colab": {
          "base_uri": "https://localhost:8080/"
        },
        "id": "1875a58a",
        "outputId": "e7d84c30-b2dc-4e1f-f676-900adb18eb55"
      },
      "outputs": [
        {
          "output_type": "stream",
          "name": "stdout",
          "text": [
            "WARNING:tensorflow:From /usr/local/lib/python3.7/dist-packages/tensorflow/python/util/dispatch.py:1082: to_float (from tensorflow.python.ops.math_ops) is deprecated and will be removed in a future version.\n",
            "Instructions for updating:\n",
            "Use `tf.cast` instead.\n"
          ]
        }
      ],
      "source": [
        "SNR = 30 # signal to noise ratio given in dB\n",
        "MC = 250 # batch number\n",
        "prob = problem.mmv_problem(D,L=n, B=d, MC=MC, pnz=0.02, SNR_dB=SNR) #case 5 with SNR = 30dB and pnz = 0.01 works. \n",
        "                                                                   #Be careful here, because poor coherence does not allow for great sparsity"
      ]
    },
    {
      "cell_type": "code",
      "execution_count": 6,
      "id": "2ccfa9b0",
      "metadata": {
        "colab": {
          "base_uri": "https://localhost:8080/",
          "height": 354
        },
        "id": "2ccfa9b0",
        "outputId": "f053f67b-211b-426b-f56b-12b6f9471c1c"
      },
      "outputs": [
        {
          "output_type": "execute_result",
          "data": {
            "text/plain": [
              "Text(0.5, 1.0, 'y')"
            ]
          },
          "metadata": {},
          "execution_count": 6
        },
        {
          "output_type": "display_data",
          "data": {
            "image/png": "[encoded data removed]",
            "text/plain": [
              "<Figure size 1080x360 with 3 Axes>"
            ]
          },
          "metadata": {
            "needs_background": "light"
          }
        }
      ],
      "source": [
        "plt.rcParams['figure.figsize'] = [15, 5]\n",
        "fig, ax = plt.subplots(1,3)\n",
        "ax[0].imshow(prob.A)\n",
        "ax[0].set_title('Matrix A')\n",
        "ax[1].plot(prob.xval[:,0])\n",
        "ax[1].set_title('x')\n",
        "ax[2].plot(prob.yval[:,0])\n",
        "ax[2].set_title('y')\n"
      ]
    },
    {
      "cell_type": "code",
      "execution_count": 7,
      "id": "e410bce9",
      "metadata": {
        "id": "e410bce9"
      },
      "outputs": [],
      "source": [
        "# creating the network and setup training:\n",
        "\n",
        "T = 6 # number of layers/iterations"
      ]
    },
    {
      "cell_type": "code",
      "execution_count": 8,
      "id": "15fb17eb",
      "metadata": {
        "colab": {
          "base_uri": "https://localhost:8080/"
        },
        "id": "15fb17eb",
        "outputId": "f0aedae6-a170-457b-f26a-28795649fc7d"
      },
      "outputs": [
        {
          "output_type": "stream",
          "name": "stderr",
          "text": [
            "/content/network.py:26: RuntimeWarning: divide by zero encountered in true_divide\n",
            "  k_hat=np.conj(1/s)\n",
            "/content/network.py:26: RuntimeWarning: invalid value encountered in true_divide\n",
            "  k_hat=np.conj(1/s)\n"
          ]
        }
      ],
      "source": [
        "# computing the analytical weight matrix for ALBISTA and NA-ALBISTA\n",
        "\n",
        "W = network.SolveViaFFT(prob.A_s) # if A_s represents a circular convolution we can easily compute the analytical \n",
        "                                  # weight matrix by inverting the conjugate FFT of k, where A_s=circ(k)"
      ]
    },
    {
      "cell_type": "code",
      "execution_count": 9,
      "id": "1256f95d",
      "metadata": {
        "colab": {
          "base_uri": "https://localhost:8080/"
        },
        "id": "1256f95d",
        "outputId": "0023363c-e707-4af9-b97e-125e4cd7c3fe"
      },
      "outputs": [
        {
          "output_type": "stream",
          "name": "stdout",
          "text": [
            "Took me 0.020 minutes for setup training\n"
          ]
        }
      ],
      "source": [
        "layers = network.build_CircALBISTA(prob, np.kron(W,np.eye(d)), T, initial_lambda=.1, initial_gamma=1)\n",
        "start = time.time()\n",
        "training_stages = train.setup_training(layers,prob,trinit=1e-3)\n",
        "end = time.time()\n",
        "print( 'Took me {totaltime:.3f} minutes for setup training'.format(totaltime = (end-start)/60))"
      ]
    },
    {
      "cell_type": "code",
      "execution_count": 10,
      "id": "01b684ca",
      "metadata": {
        "id": "01b684ca"
      },
      "outputs": [],
      "source": [
        "# Train!"
      ]
    },
    {
      "cell_type": "code",
      "execution_count": 11,
      "id": "dc6a3f7d",
      "metadata": {
        "colab": {
          "base_uri": "https://localhost:8080/"
        },
        "id": "dc6a3f7d",
        "outputId": "d91fc00e-5159-4715-de60-a27c751a2703"
      },
      "outputs": [
        {
          "output_type": "stream",
          "name": "stdout",
          "text": [
            "norms xval:48.3480518 yval:47.9684217\n",
            "restoring gamma_0:0 is:1.3986557\n",
            "restoring lam_0:0 is:1.763941\n",
            "restoring lam_1:0 is:-0.0007959091\n",
            "restoring gamma_1:0 is:0.00011276282\n",
            "restoring lam_2:0 is:-0.0005828604\n",
            "restoring gamma_2:0 is:-0.0002856081\n",
            "restoring lam_3:0 is:-0.00040058262\n",
            "restoring gamma_3:0 is:9.210977e-06\n",
            "restoring lam_4:0 is:-0.0008871212\n",
            "restoring gamma_4:0 is:0.00034695008\n",
            "restoring lam_5:0 is:-0.001719025\n",
            "restoring gamma_5:0 is:-0.00021068085\n",
            "Already did CircALBISTA T=1. Skipping.\n",
            "Already did CircALBISTA T=2. Skipping.\n",
            "Already did CircALBISTA T=3. Skipping.\n",
            "Already did CircALBISTA T=4. Skipping.\n",
            "Already did CircALBISTA T=5. Skipping.\n",
            "Already did CircALBISTA T=6. Skipping.\n"
          ]
        }
      ],
      "source": [
        "sess = train.do_training(training_stages,prob,'trainings/CircALBISTA_UP_T'+str(T)+'_SNRdB_'+str(SNR)+'batch'+str(MC)+'.npz')"
      ]
    },
    {
      "cell_type": "code",
      "execution_count": 12,
      "id": "7d47767a",
      "metadata": {
        "id": "7d47767a"
      },
      "outputs": [],
      "source": [
        "# Evaluating"
      ]
    },
    {
      "cell_type": "code",
      "execution_count": 13,
      "id": "dea145bf",
      "metadata": {
        "colab": {
          "base_uri": "https://localhost:8080/",
          "height": 423
        },
        "id": "dea145bf",
        "outputId": "d3245c4c-44b3-4c99-8cd9-9c030cf885a1"
      },
      "outputs": [
        {
          "output_type": "stream",
          "name": "stderr",
          "text": [
            "/content/blocksparsetoolbox.py:47: RuntimeWarning: divide by zero encountered in double_scalars\n",
            "  return la.norm((xhat-x), ord='fro')**2/normx\n",
            "/content/blocksparsetoolbox.py:47: RuntimeWarning: invalid value encountered in double_scalars\n",
            "  return la.norm((xhat-x), ord='fro')**2/normx\n"
          ]
        },
        {
          "output_type": "execute_result",
          "data": {
            "text/plain": [
              "[<matplotlib.lines.Line2D at 0x7fc9b07d1e10>]"
            ]
          },
          "metadata": {},
          "execution_count": 13
        },
        {
          "output_type": "display_data",
          "data": {
            "image/png": "[encoded data removed]",
            "text/plain": [
              "<Figure size 1080x360 with 1 Axes>"
            ]
          },
          "metadata": {
            "needs_background": "light"
          }
        }
      ],
      "source": [
        "y,x = prob(sess)\n",
        "MC = x.shape[-1]\n",
        "t=0\n",
        "l2norm=np.zeros(((T),MC))\n",
        "nmse_dbLISTA=np.zeros(((T),MC))\n",
        "for name, xhat_, var_list in layers:\n",
        "    if not name=='Linear':\n",
        "        xhat = sess.run(xhat_, feed_dict={prob.y_: y, prob.x_: x})\n",
        "        for i in range(0, x.shape[1]):\n",
        "            nmse_dbLISTA[t,i]=bst.nmse(xhat[:,i, np.newaxis], x[:,i, np.newaxis])\n",
        "            l2norm[t, i] = bst.l21norm(xhat[:, i]- x[:, i], prob.L, prob.B)\n",
        "        t+=1\n",
        "\n",
        "nmse_dbLISTAMean = 10*np.log10(np.mean(np.ma.masked_invalid(nmse_dbLISTA), axis=1))\n",
        "l2normLISTAMean = np.mean(np.ma.masked_invalid(l2norm), axis=1)\n",
        "l2normmax = np.max(l2norm, axis=1)\n",
        "\n",
        "lam = np.zeros(T)\n",
        "gam = np.zeros(T)\n",
        "k = 1\n",
        "for name, xhat_, var_list in layers:\n",
        "    if not name == 'Linear':\n",
        "        lam[k-1], gam[k-1] = sess.run([layers[k-1][2][0], layers[k-1][2][1]])\n",
        "        k = k+1\n",
        "\n",
        "plt.plot(nmse_dbLISTAMean)"
      ]
    },
    {
      "cell_type": "code",
      "source": [
        "nmse_dbLISTAMean"
      ],
      "metadata": {
        "colab": {
          "base_uri": "https://localhost:8080/"
        },
        "id": "FsEuhhNhswUh",
        "outputId": "643ebb63-4225-44c1-f86d-c02667f08a6e"
      },
      "id": "FsEuhhNhswUh",
      "execution_count": 14,
      "outputs": [
        {
          "output_type": "execute_result",
          "data": {
            "text/plain": [
              "masked_array(data=[-11.586069825157088, -11.58617077559301,\n",
              "                   -11.586403248902815, -11.586410220169622,\n",
              "                   -11.58664658905127, -11.586766525911083],\n",
              "             mask=[False, False, False, False, False, False],\n",
              "       fill_value=1e+20)"
            ]
          },
          "metadata": {},
          "execution_count": 14
        }
      ]
    },
    {
      "cell_type": "code",
      "source": [
        ""
      ],
      "metadata": {
        "id": "Z898WBObwKiD"
      },
      "id": "Z898WBObwKiD",
      "execution_count": 14,
      "outputs": []
    }
  ],
  "metadata": {
    "kernelspec": {
      "display_name": "Python 3 (ipykernel)",
      "language": "python",
      "name": "python3"
    },
    "language_info": {
      "codemirror_mode": {
        "name": "ipython",
        "version": 3
      },
      "file_extension": ".py",
      "mimetype": "text/x-python",
      "name": "python",
      "nbconvert_exporter": "python",
      "pygments_lexer": "ipython3",
      "version": "3.7.11"
    },
    "colab": {
      "name": "run_mmv_problem.ipynb",
      "provenance": []
    },
    "accelerator": "GPU"
  },
  "nbformat": 4,
  "nbformat_minor": 5
}