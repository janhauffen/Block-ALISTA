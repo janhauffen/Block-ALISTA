{
  "cells": [
    {
      "cell_type": "code",
      "execution_count": 1,
      "id": "5cdd0313",
      "metadata": {
        "id": "5cdd0313",
        "outputId": "0c0019c4-461c-47e6-b5c0-8ad538218495",
        "colab": {
          "base_uri": "https://localhost:8080/"
        }
      },
      "outputs": [
        {
          "output_type": "stream",
          "name": "stdout",
          "text": [
            "WARNING:tensorflow:From /usr/local/lib/python3.7/dist-packages/tensorflow/python/compat/v2_compat.py:107: disable_resource_variables (from tensorflow.python.ops.variable_scope) is deprecated and will be removed in a future version.\n",
            "Instructions for updating:\n",
            "non-resource variables are not supported in the long term\n"
          ]
        }
      ],
      "source": [
        "from __future__ import division\n",
        "from __future__ import print_function\n",
        "from __future__ import division\n",
        "from __future__ import print_function\n",
        "import numpy as np\n",
        "import os\n",
        "os.environ['TF_CPP_MIN_LOG_LEVEL'] = '2'\n",
        "# %tensorflow_version 1.14\n",
        "import tensorflow.compat.v1 as tf\n",
        "tf.disable_v2_behavior()\n",
        "import numpy.linalg as la\n",
        "import scipy.io as sio\n",
        "import math\n",
        "import sys\n",
        "import time\n",
        "import pdb\n",
        "import matplotlib.pyplot as plt\n",
        "import problem, network, train\n",
        "import blocksparsetoolbox as bst\n",
        "\n",
        "from scipy.linalg import toeplitz, circulant"
      ]
    },
    {
      "cell_type": "code",
      "execution_count": 2,
      "id": "5fcee3b8",
      "metadata": {
        "id": "5fcee3b8"
      },
      "outputs": [],
      "source": [
        "np.random.seed(1)\n",
        "tf.set_random_seed(1)"
      ]
    },
    {
      "cell_type": "code",
      "execution_count": 3,
      "id": "e3bd5340",
      "metadata": {
        "id": "e3bd5340"
      },
      "outputs": [],
      "source": [
        "# Creating the mmv-problem: select circular matrix case 1-8"
      ]
    },
    {
      "cell_type": "code",
      "execution_count": 4,
      "id": "3598b936",
      "metadata": {
        "id": "3598b936",
        "outputId": "643491f3-a8e1-4850-aa2d-9e3ab7719c31",
        "colab": {
          "base_uri": "https://localhost:8080/"
        }
      },
      "outputs": [
        {
          "output_type": "stream",
          "name": "stdout",
          "text": [
            "rank(D^T@D)=28\n",
            "rank(D@D^T)=28\n",
            "rank(D)=59\n",
            "coherence = 0.9985346794128418\n"
          ]
        }
      ],
      "source": [
        "case = 5\n",
        "n = 60\n",
        "m = n\n",
        "d = 15\n",
        "\n",
        "T = np.zeros((n,n))\n",
        "T[0,-1]=1\n",
        "T[1:n,0:n-1]=np.eye(n-1)\n",
        "\n",
        "if case==1:\n",
        "  #1 Example: Random Circular Symmetric Matrix, where D^T@D has full rank\n",
        "  a = np.random.normal(size=(m))\n",
        "  D = circulant(a).astype('float32')\n",
        "  D = 1/2*(D+D.T)\n",
        "  D = 1/np.linalg.norm(D[:,0])*D\n",
        "  for i in range(1,n):\n",
        "    D[:,i]=T@D[:,i-1]\n",
        "\n",
        "  print('rank(D^T@D)='+str(np.linalg.matrix_rank(D.T@D)))\n",
        "  print('rank(D)='+str(np.linalg.matrix_rank(D)))\n",
        "  print('coherence = '+str(np.max(np.abs(D.T@D-np.eye(m)))))\n",
        "elif case==2:\n",
        "  #2 Example: Symmetric Circular Matrix, based upon discrete function values, where D^T@D has low rank\n",
        "\n",
        "  x = np.linspace(-1,1,n)\n",
        "  a = 0.5-2*x**2\n",
        "  D = circulant(a).astype('float32')\n",
        "  D = 1/np.linalg.norm(D[:,0])*D\n",
        "\n",
        "  print('rank(D^T@D)='+str(np.linalg.matrix_rank(D.T@D)))\n",
        "  print('rank(D)='+str(np.linalg.matrix_rank(D)))\n",
        "  print('coherence = '+str(np.max(np.abs(D.T@D-np.eye(m)))))\n",
        "elif case==3:\n",
        "  #3 Example: Symmetric Circular Matrix, based upon discrete function values, where D^T@D has low rank\n",
        "\n",
        "  x = np.linspace(-1,1,n)\n",
        "  a = (np.cos(1*np.pi*x))\n",
        "  #a = 1/np.linalg.norm(a)*np.abs(a) #no problem\n",
        "  a = 1/np.linalg.norm(a)*(a) #problem\n",
        "  D = circulant(a).astype('float32')\n",
        "\n",
        "  print('rank(D^T@D)='+str(np.linalg.matrix_rank(D.T@D)))\n",
        "  print('rank(D)='+str(np.linalg.matrix_rank(D)))\n",
        "  print('coherence = '+str(np.max(np.abs(D.T@D-np.eye(m)))))\n",
        "elif case==4:\n",
        "  #4 Example: Random Circular Matrix\n",
        "\n",
        "  a = np.random.normal(size=(m))\n",
        "  D = circulant(a).astype('float32')\n",
        "  D = 1/np.linalg.norm(D[:,0])*D\n",
        "\n",
        "  print('rank(D^T@D)='+str(np.linalg.matrix_rank(D.T@D)))\n",
        "  print('rank(D@D^T)='+str(np.linalg.matrix_rank(D@D.T)))\n",
        "  print('rank(D)='+str(np.linalg.matrix_rank(D)))\n",
        "  print('coherence = '+str(np.max(np.abs(D.T@D-np.eye(m)))))\n",
        "elif case==5:\n",
        "  #5 Example: Circular Matrix, based upon discrete function values,\n",
        "  \n",
        "  x = np.linspace(-1,1,n)\n",
        "  a = (np.sin(1*np.pi*x))\n",
        "  #a = 1/np.linalg.norm(a)*np.abs(a) #no problem\n",
        "  a = 1/np.linalg.norm(a)*(a) #problem\n",
        "  D = circulant(a).astype('float32')\n",
        "\n",
        "  print('rank(D^T@D)='+str(np.linalg.matrix_rank(D.T@D)))\n",
        "  print('rank(D@D^T)='+str(np.linalg.matrix_rank(D@D.T)))\n",
        "  print('rank(D)='+str(np.linalg.matrix_rank(D)))\n",
        "  print('coherence = '+str(np.max(np.abs(D.T@D-np.eye(m)))))\n",
        "elif case==6:\n",
        "  #6 Example: Circular Matrix, based upon discrete function values,\n",
        "  \n",
        "  x = np.linspace(-1,1,n)\n",
        "  a = (np.exp(1*np.pi*x))\n",
        "  #a = 1/np.linalg.norm(a)*np.abs(a) #no problem\n",
        "  a = 1/np.linalg.norm(a)*(a) #problem\n",
        "  D = circulant(a).astype('float32')\n",
        "\n",
        "  print('rank(D^T@D)='+str(np.linalg.matrix_rank(D.T@D)))\n",
        "  print('rank(D@D^T)='+str(np.linalg.matrix_rank(D@D.T)))\n",
        "  print('rank(D)='+str(np.linalg.matrix_rank(D)))\n",
        "  print('coherence = '+str(np.max(np.abs(D.T@D-np.eye(m)))))\n",
        "elif case==7:\n",
        "  #7 Example: Circular Matrix, not symmetric but low rank\n",
        "  x = np.linspace(-1,1,n)\n",
        "  a = np.cos(np.pi*x)\n",
        "  a[30:n]=0\n",
        "  D = circulant(a).astype('float32')\n",
        "  D = 1/np.linalg.norm(D[:,0])*D\n",
        "\n",
        "  print('rank(D^T@D)='+str(np.linalg.matrix_rank(D.T@D))) \n",
        "  print('rank(D@D^T)='+str(np.linalg.matrix_rank(D@D.T)))\n",
        "  print('rank(D)='+str(np.linalg.matrix_rank(D)))\n",
        "  print('coherence = '+str(np.max(np.abs(D.T@D-np.eye(m)))))\n",
        "elif case==8:\n",
        "  #8 Example: Circular Matrix, \n",
        "  x = np.linspace(-1,1,n)\n",
        "  a = np.exp(np.pi*x)\n",
        "  a[30:n]=a[0:30]\n",
        "  D = circulant(a).astype('float32')\n",
        "  D = 1/np.linalg.norm(D[:,0])*D\n",
        "\n",
        "  print('rank(D^T@D)='+str(np.linalg.matrix_rank(D.T@D))) \n",
        "  print('rank(D@D^T)='+str(np.linalg.matrix_rank(D@D.T)))\n",
        "  print('rank(D)='+str(np.linalg.matrix_rank(D)))\n",
        "  print('coherence = '+str(np.max(np.abs(D.T@D-np.eye(m)))))"
      ]
    },
    {
      "cell_type": "code",
      "execution_count": 5,
      "id": "1875a58a",
      "metadata": {
        "id": "1875a58a",
        "outputId": "2649de67-5014-409e-c531-7f83df8c096b",
        "colab": {
          "base_uri": "https://localhost:8080/"
        }
      },
      "outputs": [
        {
          "output_type": "stream",
          "name": "stdout",
          "text": [
            "WARNING:tensorflow:From /usr/local/lib/python3.7/dist-packages/tensorflow/python/util/dispatch.py:1082: to_float (from tensorflow.python.ops.math_ops) is deprecated and will be removed in a future version.\n",
            "Instructions for updating:\n",
            "Use `tf.cast` instead.\n"
          ]
        }
      ],
      "source": [
        "SNR = 40 # signal to noise ratio given in dB\n",
        "MC = 250 # batch number\n",
        "prob = problem.mmv_problem(D,L=n, B=d, MC=MC, pnz=0.1, SNR_dB=SNR) #case 5 with SNR = 30dB and pnz = 0.01 works. \n",
        "                                                                   #Be careful here, because poor coherence does not allow for great sparsity"
      ]
    },
    {
      "cell_type": "code",
      "execution_count": 6,
      "id": "2ccfa9b0",
      "metadata": {
        "id": "2ccfa9b0",
        "outputId": "61d1961e-f112-42d9-d544-95528fc656e5",
        "colab": {
          "base_uri": "https://localhost:8080/",
          "height": 354
        }
      },
      "outputs": [
        {
          "output_type": "execute_result",
          "data": {
            "text/plain": [
              "Text(0.5, 1.0, 'y')"
            ]
          },
          "metadata": {},
          "execution_count": 6
        },
        {
          "output_type": "display_data",
          "data": {
            "image/png": "[encoded data removed]",
            "text/plain": [
              "<Figure size 1080x360 with 3 Axes>"
            ]
          },
          "metadata": {
            "needs_background": "light"
          }
        }
      ],
      "source": [
        "plt.rcParams['figure.figsize'] = [15, 5]\n",
        "fig, ax = plt.subplots(1,3)\n",
        "ax[0].imshow(prob.A)\n",
        "ax[0].set_title('Matrix A')\n",
        "ax[1].plot(prob.xval[:,0])\n",
        "ax[1].set_title('x')\n",
        "ax[2].plot(prob.yval[:,0])\n",
        "ax[2].set_title('y')\n"
      ]
    },
    {
      "cell_type": "code",
      "execution_count": 7,
      "id": "e410bce9",
      "metadata": {
        "id": "e410bce9"
      },
      "outputs": [],
      "source": [
        "# creating the network and setup training:\n",
        "\n",
        "T = 6 # number of layers/iterations"
      ]
    },
    {
      "cell_type": "code",
      "execution_count": 8,
      "id": "15fb17eb",
      "metadata": {
        "id": "15fb17eb",
        "outputId": "52731de7-27af-479f-92fc-d5b329579f9a",
        "colab": {
          "base_uri": "https://localhost:8080/"
        }
      },
      "outputs": [
        {
          "output_type": "stream",
          "name": "stderr",
          "text": [
            "/content/network.py:26: RuntimeWarning: divide by zero encountered in true_divide\n",
            "  k_hat=np.conj(1/s)\n",
            "/content/network.py:26: RuntimeWarning: invalid value encountered in true_divide\n",
            "  k_hat=np.conj(1/s)\n"
          ]
        }
      ],
      "source": [
        "# computing the analytical weight matrix for ALBISTA and NA-ALBISTA\n",
        "\n",
        "W = network.SolveViaFFT(prob.A_s) # if A_s represents a circular convolution we can easily compute the analytical \n",
        "                                  # weight matrix by inverting the conjugate FFT of k, where A_s=circ(k)"
      ]
    },
    {
      "cell_type": "code",
      "execution_count": 9,
      "id": "1256f95d",
      "metadata": {
        "id": "1256f95d",
        "outputId": "8ef0ef69-959d-4264-c27e-e1926b0e58af",
        "colab": {
          "base_uri": "https://localhost:8080/"
        }
      },
      "outputs": [
        {
          "output_type": "stream",
          "name": "stdout",
          "text": [
            "Took me 0.018 minutes for setup training\n"
          ]
        }
      ],
      "source": [
        "layers = network.build_CircALBISTA(prob, np.kron(W,np.eye(d)), T, initial_lambda=.1, initial_gamma=1)\n",
        "start = time.time()\n",
        "training_stages = train.setup_training(layers,prob,trinit=1e-3)\n",
        "end = time.time()\n",
        "print( 'Took me {totaltime:.3f} minutes for setup training'.format(totaltime = (end-start)/60))"
      ]
    },
    {
      "cell_type": "code",
      "execution_count": 10,
      "id": "01b684ca",
      "metadata": {
        "id": "01b684ca"
      },
      "outputs": [],
      "source": [
        "# Train!"
      ]
    },
    {
      "cell_type": "code",
      "execution_count": null,
      "id": "dc6a3f7d",
      "metadata": {
        "id": "dc6a3f7d",
        "outputId": "9d835b3c-3606-489f-eebb-e29dcbcbc3fc",
        "colab": {
          "base_uri": "https://localhost:8080/"
        }
      },
      "outputs": [
        {
          "output_type": "stream",
          "name": "stdout",
          "text": [
            "norms xval:150.2660275 yval:147.5021988\n",
            "CircALBISTA T=1 extending lam_0:0,gamma_0:0\n",
            "i=0      nmse=-3.658241 dB (best=-3.658241)\n",
            "i=1000   nmse=-9.703483 dB (best=-9.703483)\n",
            "i=2000   nmse=-11.710106 dB (best=-11.710106)\n",
            "i=3000   nmse=-12.187577 dB (best=-12.187577)\n",
            "i=4000   nmse=-12.291677 dB (best=-12.291676)\n",
            "i=5000   nmse=-12.312498 dB (best=-12.312498)\n",
            "i=6000   nmse=-12.315309 dB (best=-12.315309)\n",
            "i=7000   nmse=-12.315407 dB (best=-12.315463)\n",
            "i=8000   nmse=-12.315462 dB (best=-12.315463)\n",
            "i=9000   nmse=-12.315264 dB (best=-12.315465)\n",
            "i=10000  nmse=-12.315452 dB (best=-12.315465)\n",
            "i=11000  nmse=-12.315221 dB (best=-12.315465)\n",
            "i=12000  nmse=-12.315292 dB (best=-12.315465)\n",
            "i=13000  nmse=-12.315459 dB (best=-12.315465)\n",
            "i=14000  nmse=-12.315452 dB (best=-12.315465)\n",
            "Took me 0.828 minutes, or 3.5 ms per iteration\n",
            "CircALBISTA T=2 extending lam_1:0,gamma_1:0\n",
            "i=0      nmse=-3.803449 dB (best=-3.803449)\n",
            "i=1000   nmse=-11.690350 dB (best=-11.690350)\n",
            "i=2000   nmse=-11.890817 dB (best=-11.890817)\n",
            "i=3000   nmse=-12.102287 dB (best=-12.102287)\n",
            "i=4000   nmse=-12.252774 dB (best=-12.252775)\n",
            "i=5000   nmse=-12.310919 dB (best=-12.310918)\n",
            "i=6000   nmse=-12.319793 dB (best=-12.319792)\n",
            "i=7000   nmse=-12.320073 dB (best=-12.320079)\n",
            "i=8000   nmse=-12.320074 dB (best=-12.320079)\n",
            "i=9000   nmse=-12.320051 dB (best=-12.320079)\n",
            "i=10000  nmse=-12.320073 dB (best=-12.320079)\n",
            "i=11000  nmse=-12.319984 dB (best=-12.320079)\n",
            "i=12000  nmse=-12.320017 dB (best=-12.320079)\n",
            "Took me 0.659 minutes, or 3.3 ms per iteration\n",
            "CircALBISTA T=3 extending lam_2:0,gamma_2:0\n",
            "i=0      nmse=-3.803395 dB (best=-3.803395)\n",
            "i=1000   nmse=-11.646426 dB (best=-11.646425)\n",
            "i=2000   nmse=-11.845776 dB (best=-11.845776)\n",
            "i=3000   nmse=-12.065001 dB (best=-12.065001)\n",
            "i=4000   nmse=-12.232952 dB (best=-12.232952)\n",
            "i=5000   nmse=-12.306085 dB (best=-12.306085)\n",
            "i=6000   nmse=-12.319514 dB (best=-12.319513)\n",
            "i=7000   nmse=-12.320075 dB (best=-12.320077)\n",
            "i=8000   nmse=-12.320075 dB (best=-12.320077)\n",
            "i=9000   nmse=-12.320071 dB (best=-12.320077)\n",
            "i=10000  nmse=-12.320025 dB (best=-12.320077)\n",
            "i=10280  nmse=-12.320008 dB (best=-12.320077)"
          ]
        }
      ],
      "source": [
        "sess = train.do_training(training_stages,prob,'trainings/CircALBISTA_UP_T'+str(T)+'_SNRdB_'+str(SNR)+'batch'+str(MC)+'.npz')"
      ]
    },
    {
      "cell_type": "code",
      "execution_count": null,
      "id": "7d47767a",
      "metadata": {
        "id": "7d47767a"
      },
      "outputs": [],
      "source": [
        "# Evaluating"
      ]
    },
    {
      "cell_type": "code",
      "execution_count": null,
      "id": "dea145bf",
      "metadata": {
        "id": "dea145bf"
      },
      "outputs": [],
      "source": [
        "y,x = prob(sess)\n",
        "MC = x.shape[-1]\n",
        "t=0\n",
        "l2norm=np.zeros(((T),MC))\n",
        "nmse_dbLISTA=np.zeros(((T),MC))\n",
        "for name, xhat_, var_list in layers:\n",
        "    if not name=='Linear':\n",
        "        xhat = sess.run(xhat_, feed_dict={prob.y_: y, prob.x_: x})\n",
        "        for i in range(0, x.shape[1]):\n",
        "            nmse_dbLISTA[t,i]=bst.nmse(xhat[:,i, np.newaxis], x[:,i, np.newaxis])\n",
        "            l2norm[t, i] = bst.l21norm(xhat[:, i]- x[:, i], prob.L, prob.B)\n",
        "        t+=1\n",
        "\n",
        "nmse_dbLISTAMean = 10*np.log10(np.mean(np.ma.masked_invalid(nmse_dbLISTA), axis=1))\n",
        "l2normLISTAMean = np.mean(np.ma.masked_invalid(l2norm), axis=1)\n",
        "l2normmax = np.max(l2norm, axis=1)\n",
        "\n",
        "lam = np.zeros(T)\n",
        "gam = np.zeros(T)\n",
        "k = 1\n",
        "for name, xhat_, var_list in layers:\n",
        "    if not name == 'Linear':\n",
        "        lam[k-1], gam[k-1] = sess.run([layers[k-1][2][0], layers[k-1][2][1]])\n",
        "        k = k+1\n",
        "\n",
        "plt.plot(nmse_dbLISTAMean)"
      ]
    },
    {
      "cell_type": "code",
      "source": [
        ""
      ],
      "metadata": {
        "id": "FsEuhhNhswUh"
      },
      "id": "FsEuhhNhswUh",
      "execution_count": null,
      "outputs": []
    }
  ],
  "metadata": {
    "kernelspec": {
      "display_name": "Python 3 (ipykernel)",
      "language": "python",
      "name": "python3"
    },
    "language_info": {
      "codemirror_mode": {
        "name": "ipython",
        "version": 3
      },
      "file_extension": ".py",
      "mimetype": "text/x-python",
      "name": "python",
      "nbconvert_exporter": "python",
      "pygments_lexer": "ipython3",
      "version": "3.7.11"
    },
    "colab": {
      "name": "run_mmv_problem.ipynb",
      "provenance": []
    },
    "accelerator": "GPU"
  },
  "nbformat": 4,
  "nbformat_minor": 5
}