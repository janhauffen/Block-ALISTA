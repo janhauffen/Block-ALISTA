{
  "nbformat": 4,
  "nbformat_minor": 0,
  "metadata": {
    "colab": {
      "provenance": [],
      "collapsed_sections": []
    },
    "kernelspec": {
      "name": "python3",
      "display_name": "Python 3"
    },
    "language_info": {
      "name": "python"
    }
  },
  "cells": [
    {
      "cell_type": "markdown",
      "source": [
        "# Generalized Block Coherence: Connection to the Pseudo Inverse\n",
        "## Gaussian Case"
      ],
      "metadata": {
        "id": "1QR63zvavFhg"
      }
    },
    {
      "cell_type": "code",
      "metadata": {
        "id": "w45mRgCsCdgS"
      },
      "source": [
        "import cvxpy as cp\n",
        "import numpy as np\n",
        "from scipy.linalg import toeplitz, circulant\n",
        "import numpy as np\n",
        "import matplotlib.pyplot as plt\n",
        "import pdb\n",
        "import numpy.linalg as linalg\n",
        "\n",
        "np.random.seed(1)"
      ],
      "execution_count": 1,
      "outputs": []
    },
    {
      "cell_type": "code",
      "metadata": {
        "id": "amuaG12qOq7A"
      },
      "source": [
        "def R(D, n, d):\n",
        "    n_y, n_x  = D.shape\n",
        "    R = np.zeros((n,n))\n",
        "    for k in range(0,n):\n",
        "      for l in range(k,n):\n",
        "          I = np.zeros((n_x,n_x))\n",
        "          I_s = np.zeros((n,n))\n",
        "          I[l*d:(l+1)*d, k*d:(k+1)*d] = np.ones(d)\n",
        "          I_s[l,k] = 1 \n",
        "          if k==l:\n",
        "            R = R+cp.norm(cp.multiply(I,D), 2)*I_s\n",
        "          else:\n",
        "            R = R+cp.norm(cp.multiply(I,D), 2)*I_s+cp.norm(cp.multiply(I.T,D), 2)*I_s.T\n",
        "        \n",
        "    return R"
      ],
      "execution_count": 2,
      "outputs": []
    },
    {
      "cell_type": "code",
      "metadata": {
        "id": "Z1-xOt3d7Gg2"
      },
      "source": [
        "def circ(k):\n",
        "  #pdb.set_trace()\n",
        "  n = k.shape[0]\n",
        "  K = np.zeros((n,n))\n",
        "  T1 = np.zeros((1,n))\n",
        "  T1[0,-1]=1\n",
        "  T2 = np.concatenate([np.eye(n-1), np.zeros((n-1,1))], axis=1)\n",
        "  T = np.concatenate([T1, T2])\n",
        "  I = np.zeros((n,n))\n",
        "  ki = k\n",
        "  I[:,0] = 1\n",
        "  K = K+np.multiply(ki,I)\n",
        "  I[:,0] = 0\n",
        "  for i in range(1,n):\n",
        "    I[:,i] = 1\n",
        "    ki = T@ki\n",
        "    K = K+np.multiply(ki,I)\n",
        "    I[:,i] = 0\n",
        "\n",
        "  return K"
      ],
      "execution_count": 3,
      "outputs": []
    },
    {
      "cell_type": "code",
      "source": [
        "def cvx_orig_solver(D, m, n, d):\n",
        "  # Construct the problem.\n",
        "  B_cvx = cp.Variable((m*d,n*d))\n",
        "\n",
        "  I = np.kron(np.eye(n), np.ones((d, d)))\n",
        "  k = np.tile(np.eye(d), (1, n)).T\n",
        "  b = cp.multiply(B_cvx.T@D, I)\n",
        "  b = cp.matmul(b, k) #extracting the diagonal blocks of D^TB\n",
        "  constraints = [b == k]\n",
        "\n",
        "  objective = cp.Minimize(1/d*cp.max(R(B_cvx.T@D-np.eye(n*d), n, d)))\n",
        "  if d == 1:\n",
        "    objective = cp.Minimize(cp.max(cp.abs(B_cvx.T@D-np.eye(n*d))))\n",
        "  prob = cp.Problem(objective, constraints)\n",
        "\n",
        "  result = prob.solve()\n",
        "  return B_cvx\n",
        "\n",
        "def cvx_fro_solver(D, m, n, d):\n",
        "  # Construct the problem.\n",
        "  B_up = cp.Variable((m*d,n*d))\n",
        "\n",
        "  I = np.kron(np.eye(n), np.ones((d, d)))\n",
        "  k = np.tile(np.eye(d), (1, n)).T\n",
        "  b = cp.multiply(B_up.T@D, I)\n",
        "  b = cp.matmul(b, k) #extracting the diagonal blocks of D^TB\n",
        "  constraints = [b == k]\n",
        "\n",
        "  objective = cp.Minimize(1/d*(cp.norm(B_up.T@D, 'fro')))\n",
        "\n",
        "  #objective = cp.Minimize(cp.max(cp.abs(A.T@x-np.eye(n))))\n",
        "\n",
        "  prob = cp.Problem(objective, constraints)\n",
        "\n",
        "  # The optimal objective value is returned by `prob.solve()`.\n",
        "  result = prob.solve()\n",
        "  return B_up\n",
        "\n",
        "def compute_W_Thm(D, n, d):\n",
        "  W = np.zeros(D.shape)\n",
        "  m,n = D.shape\n",
        "  for i in range(0,n):\n",
        "      #pdb.set_trace()\n",
        "      K = (2*D@D.T)@(2*D@D.T)+D[:,i * d:(i + 1) * d]@D[:,i * d:(i + 1) * d].T\n",
        "      K_p = linalg.pinv(K)\n",
        "      E = 2*D@D.T@D[:,i * d:(i + 1) * d]\n",
        "      R = D[:,i * d:(i + 1) * d] - 2*D@D.T@K_p@E\n",
        "      S = - D[:,i * d:(i + 1) * d].T@K_p@E\n",
        "      L = R.T@R + S.T@S\n",
        "      I = np.eye((L.T@L).shape[0])\n",
        "      M = K_p@E@(I - linalg.pinv(L)@L)\n",
        "      H = linalg.pinv(L)@S.T + (I - linalg.pinv(L)@L)@linalg.inv(I + M.T@M)@(K_p@E).T@K_p@(D[:,i * d:(i + 1) * d]-E@linalg.pinv(L)@S.T)\n",
        "      W[:,i * d:(i + 1) * d] = K_p@(D[:,i * d:(i + 1) * d]-E@H)\n",
        "  return W"
      ],
      "metadata": {
        "id": "Q-kpkQlEl3jV"
      },
      "execution_count": 4,
      "outputs": []
    },
    {
      "cell_type": "markdown",
      "source": [
        "# Intro\n",
        "\n",
        "The Notebook is organized as follows:\n",
        "\n",
        "\n",
        "\n",
        "1.   Case 1: $D\\in\\mathbb{R}^{m,n}$ with $m<n$ \n",
        "\n",
        "    *   $d = 1$, i.e. the sparse case\n",
        "    *   $d = 4$, i.e. block sparse case\n",
        "\n",
        "2.   Case 1: $D\\in\\mathbb{R}^{m,n}$ with $m>n$ \n",
        "\n",
        "    *   $d = 1$, i.e. the sparse case\n",
        "    *   $d = 4$, i.e. block sparse case\n",
        "    \n",
        "We will see that we can derive the solution of the Frobenius norm problem via the pseudo-inverse in every case except case 1.2!\n",
        "\n"
      ],
      "metadata": {
        "id": "zryGFjU3vVqb"
      }
    },
    {
      "cell_type": "markdown",
      "metadata": {
        "id": "fWRsuCMXZljB"
      },
      "source": [
        "# Case 1 \n",
        "\n",
        "$D\\in\\mathbb{R}^{m,n}$ with $m<n$\n",
        "\n",
        "## Case 1.1 \n",
        "\n",
        "Sparse Case, i.e. $d=1$"
      ]
    },
    {
      "cell_type": "code",
      "metadata": {
        "id": "UxEJ7t3-JXx2",
        "colab": {
          "base_uri": "https://localhost:8080/"
        },
        "outputId": "46999041-3764-4126-b4bd-33836c45a083"
      },
      "source": [
        "d = 1 # number of block length\n",
        "m = 10 \n",
        "n = 25 # number of blocks\n",
        "\n",
        "# creating a random matrix with orthonormal blocks\n",
        "D = np.zeros((m*d, n*d))\n",
        "for l in range(0,n):\n",
        "  D[:,l*d:(l+1)*d] = np.random.normal(size=(m*d, d))\n",
        "  D[:,l*d:(l+1)*d], _ = np.linalg.qr(D[:,l*d:(l+1)*d])\n",
        "\n",
        "print('rank(D^T@D)='+str(np.linalg.matrix_rank(D.T@D))) \n",
        "print('rank(D@D^T)='+str(np.linalg.matrix_rank(D@D.T)))\n",
        "print('rank(D)='+str(np.linalg.matrix_rank(D)))\n",
        "print('coherence = '+str(np.max(np.abs(D.T@D-np.eye(n*d)))))"
      ],
      "execution_count": 5,
      "outputs": [
        {
          "output_type": "stream",
          "name": "stdout",
          "text": [
            "rank(D^T@D)=10\n",
            "rank(D@D^T)=10\n",
            "rank(D)=10\n",
            "coherence = 0.8266560775746322\n"
          ]
        }
      ]
    },
    {
      "cell_type": "code",
      "metadata": {
        "id": "0_tzSb1VqmWI"
      },
      "source": [
        "B_orig = cvx_orig_solver(D, m, n, d)\n",
        "B_up = cvx_fro_solver(D, m, n, d)\n",
        "D_pinv = np.linalg.pinv(D).T"
      ],
      "execution_count": 6,
      "outputs": []
    },
    {
      "cell_type": "markdown",
      "source": [
        "Solutions:"
      ],
      "metadata": {
        "id": "R405fNpGpJUe"
      }
    },
    {
      "cell_type": "code",
      "source": [
        "plt.rcParams['figure.figsize'] = [15, 5]\n",
        "fig, ax = plt.subplots(1,3)\n",
        "ax[0].imshow(B_orig.value)\n",
        "ax[0].set_title('Solution of Orig.Problem')\n",
        "ax[1].imshow(B_up.value)\n",
        "ax[1].set_title('Solution of Fro.Problem')\n",
        "ax[2].imshow(D_pinv)\n",
        "ax[2].set_title('Pseudo Inverse of D')"
      ],
      "metadata": {
        "id": "0gLcSP1qj6w0",
        "colab": {
          "base_uri": "https://localhost:8080/",
          "height": 180
        },
        "outputId": "8a3d85bf-2662-489d-fce5-679f03115420"
      },
      "execution_count": 7,
      "outputs": [
        {
          "output_type": "execute_result",
          "data": {
            "text/plain": [
              "Text(0.5, 1.0, 'Pseudo Inverse of D')"
            ]
          },
          "metadata": {},
          "execution_count": 7
        },
        {
          "output_type": "display_data",
          "data": {
            "text/plain": [
              "<Figure size 1080x360 with 3 Axes>"
            ],
            "image/png": "[encoded data removed]"
          },
          "metadata": {
            "needs_background": "light"
          }
        }
      ]
    },
    {
      "cell_type": "markdown",
      "source": [
        "Constraints:"
      ],
      "metadata": {
        "id": "CJNGKzIapNw2"
      }
    },
    {
      "cell_type": "code",
      "source": [
        "plt.rcParams['figure.figsize'] = [15, 5]\n",
        "fig, ax = plt.subplots(1,3)\n",
        "ax[0].imshow(B_orig.value.T@D)\n",
        "ax[0].set_title('Solution of Orig.Problem')\n",
        "ax[1].imshow(B_up.value.T@D)\n",
        "ax[1].set_title('Solution of Fro.Problem')\n",
        "ax[2].imshow(D_pinv.T@D)\n",
        "ax[2].set_title('Pseudo Inverse of D')"
      ],
      "metadata": {
        "id": "eJrYmd9xjv0k",
        "colab": {
          "base_uri": "https://localhost:8080/",
          "height": 328
        },
        "outputId": "dfb011d2-b2d9-4ade-f610-de59806e5a4f"
      },
      "execution_count": null,
      "outputs": [
        {
          "output_type": "execute_result",
          "data": {
            "text/plain": [
              "Text(0.5, 1.0, 'Pseudo Inverse of D')"
            ]
          },
          "metadata": {},
          "execution_count": 8
        },
        {
          "output_type": "display_data",
          "data": {
            "text/plain": [
              "<Figure size 1080x360 with 3 Axes>"
            ],
            "image/png": "[encoded data removed]"
          },
          "metadata": {
            "needs_background": "light"
          }
        }
      ]
    },
    {
      "cell_type": "code",
      "source": [
        "np.diag(B_orig.value.T@D)"
      ],
      "metadata": {
        "colab": {
          "base_uri": "https://localhost:8080/"
        },
        "id": "Dg4xw07wljN0",
        "outputId": "1fc3dbbf-29ad-4610-fffd-9db92d646317"
      },
      "execution_count": null,
      "outputs": [
        {
          "output_type": "execute_result",
          "data": {
            "text/plain": [
              "array([1., 1., 1., 1., 1., 1., 1., 1., 1., 1., 1., 1., 1., 1., 1., 1., 1.,\n",
              "       1., 1., 1., 1., 1., 1., 1., 1.])"
            ]
          },
          "metadata": {},
          "execution_count": 9
        }
      ]
    },
    {
      "cell_type": "code",
      "source": [
        "np.diag(B_up.value.T@D)"
      ],
      "metadata": {
        "colab": {
          "base_uri": "https://localhost:8080/"
        },
        "id": "rPBIs8LIp5CH",
        "outputId": "8cfaea1b-72ab-4189-913f-a7a3e009f786"
      },
      "execution_count": null,
      "outputs": [
        {
          "output_type": "execute_result",
          "data": {
            "text/plain": [
              "array([1., 1., 1., 1., 1., 1., 1., 1., 1., 1., 1., 1., 1., 1., 1., 1., 1.,\n",
              "       1., 1., 1., 1., 1., 1., 1., 1.])"
            ]
          },
          "metadata": {},
          "execution_count": 10
        }
      ]
    },
    {
      "cell_type": "code",
      "source": [
        "np.diag(D_pinv.T@D)"
      ],
      "metadata": {
        "colab": {
          "base_uri": "https://localhost:8080/"
        },
        "id": "FwyztKz3p7iy",
        "outputId": "81366b0f-d348-4ba4-dffc-b83b40dfff2b"
      },
      "execution_count": null,
      "outputs": [
        {
          "output_type": "execute_result",
          "data": {
            "text/plain": [
              "array([0.44556118, 0.36035868, 0.39195   , 0.49103462, 0.33568795,\n",
              "       0.50908135, 0.40549678, 0.40594167, 0.38688696, 0.29207437,\n",
              "       0.43505605, 0.35989136, 0.4404364 , 0.70970619, 0.39602649,\n",
              "       0.46301131, 0.26745661, 0.33035214, 0.25037892, 0.5792724 ,\n",
              "       0.40711879, 0.44330955, 0.39707073, 0.26644776, 0.23039172])"
            ]
          },
          "metadata": {},
          "execution_count": 11
        }
      ]
    },
    {
      "cell_type": "markdown",
      "source": [
        "Scaling the Pseudo Inverse of $D$ appropriately yields the desired solution!"
      ],
      "metadata": {
        "id": "jQKSiQb9q4tE"
      }
    },
    {
      "cell_type": "code",
      "source": [
        "d = 1/np.diag(D_pinv.T@D)\n",
        "B_pinv_mod = D_pinv@np.diag(d)"
      ],
      "metadata": {
        "id": "Uw8Pxy99s3qX"
      },
      "execution_count": null,
      "outputs": []
    },
    {
      "cell_type": "code",
      "source": [
        "plt.rcParams['figure.figsize'] = [15, 5]\n",
        "fig, ax = plt.subplots(1,3)\n",
        "ax[0].imshow(B_up.value)\n",
        "ax[0].set_title('Fro. Solution')\n",
        "ax[1].imshow(B_pinv_mod)\n",
        "ax[1].set_title('Pseudo Inverse Based')\n",
        "ax[2].imshow(B_pinv_mod.T@D)\n",
        "ax[2].set_title('Constraints')"
      ],
      "metadata": {
        "colab": {
          "base_uri": "https://localhost:8080/",
          "height": 328
        },
        "id": "z_804ocTqrHj",
        "outputId": "696746a0-f42f-4c12-9751-6a07114a7ecd"
      },
      "execution_count": null,
      "outputs": [
        {
          "output_type": "execute_result",
          "data": {
            "text/plain": [
              "Text(0.5, 1.0, 'Constraints')"
            ]
          },
          "metadata": {},
          "execution_count": 13
        },
        {
          "output_type": "display_data",
          "data": {
            "text/plain": [
              "<Figure size 1080x360 with 3 Axes>"
            ],
            "image/png": "[encoded data removed]"
          },
          "metadata": {
            "needs_background": "light"
          }
        }
      ]
    },
    {
      "cell_type": "markdown",
      "source": [
        "Error w.r.t Frobenius Norm Solution"
      ],
      "metadata": {
        "id": "3tBzv76wrsF3"
      }
    },
    {
      "cell_type": "code",
      "source": [
        "np.linalg.norm(B_pinv_mod - B_up.value)"
      ],
      "metadata": {
        "colab": {
          "base_uri": "https://localhost:8080/"
        },
        "id": "tSRC_s2Kqzgg",
        "outputId": "0f27082d-d07a-4b64-e0ac-8d5d51ebac0f"
      },
      "execution_count": null,
      "outputs": [
        {
          "output_type": "execute_result",
          "data": {
            "text/plain": [
              "3.6185189155820538e-09"
            ]
          },
          "metadata": {},
          "execution_count": 14
        }
      ]
    },
    {
      "cell_type": "code",
      "source": [
        "np.linalg.norm(B_pinv_mod - B_orig.value)"
      ],
      "metadata": {
        "colab": {
          "base_uri": "https://localhost:8080/"
        },
        "id": "t6B8b9hyr7W6",
        "outputId": "d378611b-3e48-4da5-9aee-288cea565ca5"
      },
      "execution_count": null,
      "outputs": [
        {
          "output_type": "execute_result",
          "data": {
            "text/plain": [
              "2.1122476918055195"
            ]
          },
          "metadata": {},
          "execution_count": 15
        }
      ]
    },
    {
      "cell_type": "code",
      "source": [
        "print('Frobenius Norm B_orig = '+str(np.linalg.norm(B_orig.value.T@D, 'fro')))\n",
        "print('Frobenius Norm B_up = '+str(np.linalg.norm(B_up.value.T@D, 'fro')))\n",
        "print('Frobenius Norm B_pinv_mod = '+str(np.linalg.norm(B_pinv_mod.T@D, 'fro')))"
      ],
      "metadata": {
        "colab": {
          "base_uri": "https://localhost:8080/"
        },
        "id": "nUs4jGa1uPmo",
        "outputId": "b4d57a6d-acdd-490f-c3c1-8d66db8416bf"
      },
      "execution_count": null,
      "outputs": [
        {
          "output_type": "stream",
          "name": "stdout",
          "text": [
            "Frobenius Norm B_orig = 8.570260946821769\n",
            "Frobenius Norm B_up = 8.169476260742286\n",
            "Frobenius Norm B_pinv_mod = 8.1694762607418\n"
          ]
        }
      ]
    },
    {
      "cell_type": "markdown",
      "source": [
        "Conclusion: We can derive the Frobenius Norm Solution via the Pseudo Inverse of $D$"
      ],
      "metadata": {
        "id": "nQ2pZa3sr2zx"
      }
    },
    {
      "cell_type": "markdown",
      "source": [
        "## Case 1.2\n",
        "\n",
        "Sparse Case, i.e. $d=4$"
      ],
      "metadata": {
        "id": "UkI4JFmCsDtT"
      }
    },
    {
      "cell_type": "code",
      "source": [
        "d = 4 # number of block length\n",
        "m = 3 \n",
        "n = 5 # number of blocks\n",
        "\n",
        "# creating a random matrix with orthonormal blocks\n",
        "D = np.zeros((m*d, n*d))\n",
        "for l in range(0,n):\n",
        "  D[:,l*d:(l+1)*d] = np.random.normal(size=(m*d, d))\n",
        "  D[:,l*d:(l+1)*d], _ = np.linalg.qr(D[:,l*d:(l+1)*d])\n",
        "\n",
        "print('rank(D^T@D)='+str(np.linalg.matrix_rank(D.T@D))) \n",
        "print('rank(D@D^T)='+str(np.linalg.matrix_rank(D@D.T)))\n",
        "print('rank(D)='+str(np.linalg.matrix_rank(D)))\n",
        "print('coherence = '+str(np.max(np.abs(D.T@D-np.eye(n*d)))))"
      ],
      "metadata": {
        "colab": {
          "base_uri": "https://localhost:8080/"
        },
        "id": "RrYP2sposAWK",
        "outputId": "f13b7fef-faaf-4f60-b0f3-8b7a74680138"
      },
      "execution_count": null,
      "outputs": [
        {
          "output_type": "stream",
          "name": "stdout",
          "text": [
            "rank(D^T@D)=12\n",
            "rank(D@D^T)=12\n",
            "rank(D)=12\n",
            "coherence = 0.855694508086884\n"
          ]
        }
      ]
    },
    {
      "cell_type": "code",
      "source": [
        "B_orig = cvx_orig_solver(D, m, n, d)\n",
        "B_up = cvx_fro_solver(D, m, n, d)\n",
        "D_pinv = np.linalg.pinv(D).T"
      ],
      "metadata": {
        "id": "eI5dDcDisI57"
      },
      "execution_count": null,
      "outputs": []
    },
    {
      "cell_type": "markdown",
      "source": [
        "Solutions:"
      ],
      "metadata": {
        "id": "hc6D--odsR-V"
      }
    },
    {
      "cell_type": "code",
      "source": [
        "plt.rcParams['figure.figsize'] = [15, 5]\n",
        "fig, ax = plt.subplots(1,3)\n",
        "ax[0].imshow(B_orig.value)\n",
        "ax[0].set_title('Solution of Orig.Problem')\n",
        "ax[1].imshow(B_up.value)\n",
        "ax[1].set_title('Solution of Fro.Problem')\n",
        "ax[2].imshow(D_pinv)\n",
        "ax[2].set_title('Pseudo Inverse of D')"
      ],
      "metadata": {
        "colab": {
          "base_uri": "https://localhost:8080/",
          "height": 230
        },
        "id": "dFqGol6IsLSw",
        "outputId": "9de8bcf3-5324-4a1d-bb96-421aaf27d969"
      },
      "execution_count": null,
      "outputs": [
        {
          "output_type": "execute_result",
          "data": {
            "text/plain": [
              "Text(0.5, 1.0, 'Pseudo Inverse of D')"
            ]
          },
          "metadata": {},
          "execution_count": 19
        },
        {
          "output_type": "display_data",
          "data": {
            "text/plain": [
              "<Figure size 1080x360 with 3 Axes>"
            ],
            "image/png": "[encoded data removed]"
          },
          "metadata": {
            "needs_background": "light"
          }
        }
      ]
    },
    {
      "cell_type": "markdown",
      "source": [
        "Constraints:"
      ],
      "metadata": {
        "id": "d06HdKQusVSk"
      }
    },
    {
      "cell_type": "code",
      "source": [
        "plt.rcParams['figure.figsize'] = [15, 5]\n",
        "fig, ax = plt.subplots(1,3)\n",
        "ax[0].imshow(B_orig.value.T@D)\n",
        "ax[0].set_title('Solution of Orig.Problem')\n",
        "ax[1].imshow(B_up.value.T@D)\n",
        "ax[1].set_title('Solution of Fro.Problem')\n",
        "ax[2].imshow(D_pinv.T@D)\n",
        "ax[2].set_title('Pseudo Inverse of D')"
      ],
      "metadata": {
        "colab": {
          "base_uri": "https://localhost:8080/",
          "height": 328
        },
        "id": "dKRZ6R1lsOQA",
        "outputId": "b949a32c-9647-4d45-bc60-c1160cc53318"
      },
      "execution_count": null,
      "outputs": [
        {
          "output_type": "execute_result",
          "data": {
            "text/plain": [
              "Text(0.5, 1.0, 'Pseudo Inverse of D')"
            ]
          },
          "metadata": {},
          "execution_count": 20
        },
        {
          "output_type": "display_data",
          "data": {
            "text/plain": [
              "<Figure size 1080x360 with 3 Axes>"
            ],
            "image/png": "[encoded data removed]"
          },
          "metadata": {
            "needs_background": "light"
          }
        }
      ]
    },
    {
      "cell_type": "markdown",
      "source": [
        "Doing the same steps as above:"
      ],
      "metadata": {
        "id": "BF1Guangsdl0"
      }
    },
    {
      "cell_type": "code",
      "source": [
        "d = 1/np.diag(D_pinv.T@D)\n",
        "B_pinv_mod = D_pinv@np.diag(d)"
      ],
      "metadata": {
        "id": "fla2R_rBsP4T"
      },
      "execution_count": null,
      "outputs": []
    },
    {
      "cell_type": "code",
      "source": [
        "plt.rcParams['figure.figsize'] = [15, 5]\n",
        "fig, ax = plt.subplots(1,3)\n",
        "ax[0].imshow(B_up.value)\n",
        "ax[0].set_title('Fro. Solution')\n",
        "ax[1].imshow(B_pinv_mod)\n",
        "ax[1].set_title('Pseudo Inverse Based')\n",
        "ax[2].imshow(B_pinv_mod.T@D)\n",
        "ax[2].set_title('Constraints for Pseudo Inverse Based')"
      ],
      "metadata": {
        "colab": {
          "base_uri": "https://localhost:8080/",
          "height": 328
        },
        "id": "INU1_sL8saZ8",
        "outputId": "fa7ba867-5bd5-4d43-9b1e-883a1a55ac5d"
      },
      "execution_count": null,
      "outputs": [
        {
          "output_type": "execute_result",
          "data": {
            "text/plain": [
              "Text(0.5, 1.0, 'Constraints for Pseudo Inverse Based')"
            ]
          },
          "metadata": {},
          "execution_count": 22
        },
        {
          "output_type": "display_data",
          "data": {
            "text/plain": [
              "<Figure size 1080x360 with 3 Axes>"
            ],
            "image/png": "[encoded data removed]"
          },
          "metadata": {
            "needs_background": "light"
          }
        }
      ]
    },
    {
      "cell_type": "markdown",
      "source": [
        "Yields a different solution, since we can't met the *orthonormal block* constraints!"
      ],
      "metadata": {
        "id": "9OQHpU69skkd"
      }
    },
    {
      "cell_type": "markdown",
      "source": [
        "Error:"
      ],
      "metadata": {
        "id": "XFKXgRrJszZZ"
      }
    },
    {
      "cell_type": "code",
      "source": [
        "np.linalg.norm(B_pinv_mod - B_up.value)"
      ],
      "metadata": {
        "colab": {
          "base_uri": "https://localhost:8080/"
        },
        "id": "XDZiCwjLsisu",
        "outputId": "6e09feed-0a83-44e5-a8b1-1307117e907b"
      },
      "execution_count": null,
      "outputs": [
        {
          "output_type": "execute_result",
          "data": {
            "text/plain": [
              "1.522578591570065"
            ]
          },
          "metadata": {},
          "execution_count": 23
        }
      ]
    },
    {
      "cell_type": "code",
      "source": [
        "np.linalg.norm(B_pinv_mod - B_orig.value)"
      ],
      "metadata": {
        "colab": {
          "base_uri": "https://localhost:8080/"
        },
        "id": "7cUuraBAsu6D",
        "outputId": "36c0b3db-ed81-4e93-d2ef-b493e8221bae"
      },
      "execution_count": null,
      "outputs": [
        {
          "output_type": "execute_result",
          "data": {
            "text/plain": [
              "3.5883300518891743"
            ]
          },
          "metadata": {},
          "execution_count": 24
        }
      ]
    },
    {
      "cell_type": "code",
      "source": [
        "print('Frobenius Norm B_orig = '+str(np.linalg.norm(B_orig.value.T@D, 'fro')))\n",
        "print('Frobenius Norm B_up = '+str(np.linalg.norm(B_up.value.T@D, 'fro')))\n",
        "print('Frobenius Norm B_pinv_mod = '+str(np.linalg.norm(B_pinv_mod.T@D, 'fro')))"
      ],
      "metadata": {
        "colab": {
          "base_uri": "https://localhost:8080/"
        },
        "id": "IvM4oou9t7a9",
        "outputId": "0265d188-610b-4f0d-ee41-fe8387439e73"
      },
      "execution_count": null,
      "outputs": [
        {
          "output_type": "stream",
          "name": "stdout",
          "text": [
            "Frobenius Norm B_orig = 6.670062656871873\n",
            "Frobenius Norm B_up = 6.069694005501626\n",
            "Frobenius Norm B_pinv_mod = 5.881777861145762\n"
          ]
        }
      ]
    },
    {
      "cell_type": "markdown",
      "source": [
        "Conclusion: In the general block sparse case, we can't derive the solution via the pseudo inverse of $D$, since we can't met the constraints. \n",
        "\n",
        "**Note:** This will not be the case in the MMV case, since here it's sufficient to solve the low dimensional problem, thus the sparse case!"
      ],
      "metadata": {
        "id": "cufDPVOXtJGb"
      }
    },
    {
      "cell_type": "markdown",
      "source": [
        "# Case 2\n",
        "\n",
        "$D\\in\\mathbb{R}^{m,n}$ with $m>n$\n",
        "\n",
        "## Case 2.1 \n",
        "\n",
        "Sparse Case, i.e. $d=1$"
      ],
      "metadata": {
        "id": "dPLVcjZvtIH8"
      }
    },
    {
      "cell_type": "code",
      "source": [
        "d = 1 # number of block length\n",
        "m = 25 \n",
        "n = 10 # number of blocks\n",
        "\n",
        "# creating a random matrix with orthonormal blocks\n",
        "D = np.zeros((m*d, n*d))\n",
        "for l in range(0,n):\n",
        "  D[:,l*d:(l+1)*d] = np.random.normal(size=(m*d, d))\n",
        "  D[:,l*d:(l+1)*d], _ = np.linalg.qr(D[:,l*d:(l+1)*d])\n",
        "\n",
        "print('rank(D^T@D)='+str(np.linalg.matrix_rank(D.T@D))) \n",
        "print('rank(D@D^T)='+str(np.linalg.matrix_rank(D@D.T)))\n",
        "print('rank(D)='+str(np.linalg.matrix_rank(D)))\n",
        "print('coherence = '+str(np.max(np.abs(D.T@D-np.eye(n*d)))))"
      ],
      "metadata": {
        "colab": {
          "base_uri": "https://localhost:8080/"
        },
        "id": "E2OzlF0YtGlp",
        "outputId": "59f17d78-08de-4271-ec86-f6ff072c5831"
      },
      "execution_count": null,
      "outputs": [
        {
          "output_type": "stream",
          "name": "stdout",
          "text": [
            "rank(D^T@D)=10\n",
            "rank(D@D^T)=10\n",
            "rank(D)=10\n",
            "coherence = 0.46837088808478927\n"
          ]
        }
      ]
    },
    {
      "cell_type": "code",
      "source": [
        "B_orig = cvx_orig_solver(D, m, n, d)\n",
        "B_up = cvx_fro_solver(D, m, n, d)\n",
        "D_pinv = np.linalg.pinv(D).T"
      ],
      "metadata": {
        "id": "XfkOoEf2tlI7"
      },
      "execution_count": null,
      "outputs": []
    },
    {
      "cell_type": "markdown",
      "source": [
        "Solutions:"
      ],
      "metadata": {
        "id": "omQN80MMtpB4"
      }
    },
    {
      "cell_type": "code",
      "source": [
        "plt.rcParams['figure.figsize'] = [15, 5]\n",
        "fig, ax = plt.subplots(1,3)\n",
        "ax[0].imshow(B_orig.value)\n",
        "ax[0].set_title('Solution of Orig.Problem')\n",
        "ax[1].imshow(B_up.value)\n",
        "ax[1].set_title('Solution of Fro.Problem')\n",
        "ax[2].imshow(D_pinv)\n",
        "ax[2].set_title('Pseudo Inverse of D')"
      ],
      "metadata": {
        "colab": {
          "base_uri": "https://localhost:8080/",
          "height": 354
        },
        "id": "NegJNtF1toYU",
        "outputId": "31a2eef3-d6db-414e-a5f6-e18e1c597e2b"
      },
      "execution_count": null,
      "outputs": [
        {
          "output_type": "execute_result",
          "data": {
            "text/plain": [
              "Text(0.5, 1.0, 'Pseudo Inverse of D')"
            ]
          },
          "metadata": {},
          "execution_count": 28
        },
        {
          "output_type": "display_data",
          "data": {
            "text/plain": [
              "<Figure size 1080x360 with 3 Axes>"
            ],
            "image/png": "[encoded data removed]"
          },
          "metadata": {
            "needs_background": "light"
          }
        }
      ]
    },
    {
      "cell_type": "markdown",
      "source": [
        "Constraints"
      ],
      "metadata": {
        "id": "clGNM62rtvOf"
      }
    },
    {
      "cell_type": "code",
      "source": [
        "plt.rcParams['figure.figsize'] = [15, 5]\n",
        "fig, ax = plt.subplots(1,3)\n",
        "ax[0].imshow(B_orig.value.T@D)\n",
        "ax[0].set_title('Solution of Orig.Problem')\n",
        "ax[1].imshow(B_up.value.T@D)\n",
        "ax[1].set_title('Solution of Fro.Problem')\n",
        "ax[2].imshow(D_pinv.T@D)\n",
        "ax[2].set_title('Pseudo Inverse of D')"
      ],
      "metadata": {
        "colab": {
          "base_uri": "https://localhost:8080/",
          "height": 328
        },
        "id": "-kUWjz3xtq3W",
        "outputId": "b5cc8173-94e5-4fdd-f25a-4f6afd6f8d9a"
      },
      "execution_count": null,
      "outputs": [
        {
          "output_type": "execute_result",
          "data": {
            "text/plain": [
              "Text(0.5, 1.0, 'Pseudo Inverse of D')"
            ]
          },
          "metadata": {},
          "execution_count": 29
        },
        {
          "output_type": "display_data",
          "data": {
            "text/plain": [
              "<Figure size 1080x360 with 3 Axes>"
            ],
            "image/png": "[encoded data removed]"
          },
          "metadata": {
            "needs_background": "light"
          }
        }
      ]
    },
    {
      "cell_type": "code",
      "source": [
        "print('Frobenius Norm B_orig = '+str(np.linalg.norm(B_orig.value.T@D, 'fro')))\n",
        "print('Frobenius Norm B_up = '+str(np.linalg.norm(B_up.value.T@D, 'fro')))\n",
        "print('Frobenius Norm B_pinv_mod = '+str(np.linalg.norm(D_pinv.T@D, 'fro')))"
      ],
      "metadata": {
        "colab": {
          "base_uri": "https://localhost:8080/"
        },
        "id": "ugp3wzB-uemh",
        "outputId": "ea9fa480-34f2-40df-ab5e-8bd96f9e4ad3"
      },
      "execution_count": null,
      "outputs": [
        {
          "output_type": "stream",
          "name": "stdout",
          "text": [
            "Frobenius Norm B_orig = 3.1622776601683795\n",
            "Frobenius Norm B_up = 3.162277660168456\n",
            "Frobenius Norm B_pinv_mod = 3.1622776601683804\n"
          ]
        }
      ]
    },
    {
      "cell_type": "markdown",
      "source": [
        "Conclusion: In this case every solution coincides!"
      ],
      "metadata": {
        "id": "hkIjMGoCt0i3"
      }
    },
    {
      "cell_type": "markdown",
      "source": [
        "# Case 2.2"
      ],
      "metadata": {
        "id": "eEvG4WvBunF-"
      }
    },
    {
      "cell_type": "code",
      "source": [
        "d = 4 # number of block length\n",
        "m = 5 \n",
        "n = 3 # number of blocks\n",
        "\n",
        "# creating a random matrix with orthonormal blocks\n",
        "D = np.zeros((m*d, n*d))\n",
        "for l in range(0,n):\n",
        "  D[:,l*d:(l+1)*d] = np.random.normal(size=(m*d, d))\n",
        "  D[:,l*d:(l+1)*d], _ = np.linalg.qr(D[:,l*d:(l+1)*d])\n",
        "\n",
        "print('rank(D^T@D)='+str(np.linalg.matrix_rank(D.T@D))) \n",
        "print('rank(D@D^T)='+str(np.linalg.matrix_rank(D@D.T)))\n",
        "print('rank(D)='+str(np.linalg.matrix_rank(D)))\n",
        "print('coherence = '+str(np.max(np.abs(D.T@D-np.eye(n*d)))))"
      ],
      "metadata": {
        "colab": {
          "base_uri": "https://localhost:8080/"
        },
        "id": "AmDub86StuVw",
        "outputId": "963a2096-3c91-47a8-cc18-08aa5fc66542"
      },
      "execution_count": null,
      "outputs": [
        {
          "output_type": "stream",
          "name": "stdout",
          "text": [
            "rank(D^T@D)=12\n",
            "rank(D@D^T)=12\n",
            "rank(D)=12\n",
            "coherence = 0.6104979935251421\n"
          ]
        }
      ]
    },
    {
      "cell_type": "code",
      "source": [
        "B_orig = cvx_orig_solver(D, m, n, d)\n",
        "B_up = cvx_fro_solver(D, m, n, d)\n",
        "D_pinv = np.linalg.pinv(D).T"
      ],
      "metadata": {
        "id": "bG7bhtpzurv4"
      },
      "execution_count": null,
      "outputs": []
    },
    {
      "cell_type": "markdown",
      "source": [
        "Solutions"
      ],
      "metadata": {
        "id": "329lPpRcuzah"
      }
    },
    {
      "cell_type": "code",
      "source": [
        "plt.rcParams['figure.figsize'] = [15, 5]\n",
        "fig, ax = plt.subplots(1,3)\n",
        "ax[0].imshow(B_orig.value)\n",
        "ax[0].set_title('Solution of Orig.Problem')\n",
        "ax[1].imshow(B_up.value)\n",
        "ax[1].set_title('Solution of Fro.Problem')\n",
        "ax[2].imshow(D_pinv)\n",
        "ax[2].set_title('Pseudo Inverse of D')"
      ],
      "metadata": {
        "colab": {
          "base_uri": "https://localhost:8080/",
          "height": 354
        },
        "id": "jcnevDU2ut60",
        "outputId": "16d67eb8-58a3-46ee-9e00-e8d98fdfb310"
      },
      "execution_count": null,
      "outputs": [
        {
          "output_type": "execute_result",
          "data": {
            "text/plain": [
              "Text(0.5, 1.0, 'Pseudo Inverse of D')"
            ]
          },
          "metadata": {},
          "execution_count": 33
        },
        {
          "output_type": "display_data",
          "data": {
            "text/plain": [
              "<Figure size 1080x360 with 3 Axes>"
            ],
            "image/png": "[encoded data removed]"
          },
          "metadata": {
            "needs_background": "light"
          }
        }
      ]
    },
    {
      "cell_type": "markdown",
      "source": [
        "Constraints"
      ],
      "metadata": {
        "id": "obhG6O-Au1G1"
      }
    },
    {
      "cell_type": "code",
      "source": [
        "plt.rcParams['figure.figsize'] = [15, 5]\n",
        "fig, ax = plt.subplots(1,3)\n",
        "ax[0].imshow(B_orig.value.T@D)\n",
        "ax[0].set_title('Solution of Orig.Problem')\n",
        "ax[1].imshow(B_up.value.T@D)\n",
        "ax[1].set_title('Solution of Fro.Problem')\n",
        "ax[2].imshow(D_pinv.T@D)\n",
        "ax[2].set_title('Pseudo Inverse of D')"
      ],
      "metadata": {
        "colab": {
          "base_uri": "https://localhost:8080/",
          "height": 328
        },
        "id": "bhz4-e9juvW6",
        "outputId": "f21b38bc-21c3-46da-f66c-624942366ded"
      },
      "execution_count": null,
      "outputs": [
        {
          "output_type": "execute_result",
          "data": {
            "text/plain": [
              "Text(0.5, 1.0, 'Pseudo Inverse of D')"
            ]
          },
          "metadata": {},
          "execution_count": 34
        },
        {
          "output_type": "display_data",
          "data": {
            "text/plain": [
              "<Figure size 1080x360 with 3 Axes>"
            ],
            "image/png": "[encoded data removed]"
          },
          "metadata": {
            "needs_background": "light"
          }
        }
      ]
    },
    {
      "cell_type": "code",
      "source": [
        "print('Frobenius Norm B_orig = '+str(np.linalg.norm(B_orig.value.T@D, 'fro')))\n",
        "print('Frobenius Norm B_up = '+str(np.linalg.norm(B_up.value.T@D, 'fro')))\n",
        "print('Frobenius Norm B_pinv_mod = '+str(np.linalg.norm(D_pinv.T@D, 'fro')))"
      ],
      "metadata": {
        "colab": {
          "base_uri": "https://localhost:8080/"
        },
        "id": "B6Px0Qx0u6vQ",
        "outputId": "6d1207ee-99b7-4c1c-eafc-4b6d60e1854b"
      },
      "execution_count": null,
      "outputs": [
        {
          "output_type": "stream",
          "name": "stdout",
          "text": [
            "Frobenius Norm B_orig = 3.4641015119544534\n",
            "Frobenius Norm B_up = 3.464101615137756\n",
            "Frobenius Norm B_pinv_mod = 3.464101615137756\n"
          ]
        }
      ]
    },
    {
      "cell_type": "markdown",
      "source": [
        "Conclusion: As expected, see conclusion Case 2.1."
      ],
      "metadata": {
        "id": "vh6NIwrZu2JA"
      }
    }
  ]
}