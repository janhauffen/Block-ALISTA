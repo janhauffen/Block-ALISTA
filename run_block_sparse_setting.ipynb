{
  "cells": [
    {
      "cell_type": "code",
      "execution_count": null,
      "id": "5cdd0313",
      "metadata": {
        "id": "5cdd0313"
      },
      "outputs": [],
      "source": [
        "from __future__ import division\n",
        "from __future__ import print_function\n",
        "from __future__ import division\n",
        "from __future__ import print_function\n",
        "import numpy as np\n",
        "import os\n",
        "os.environ['TF_CPP_MIN_LOG_LEVEL'] = '2'\n",
        "# %tensorflow_version 1.14\n",
        "import tensorflow.compat.v1 as tf\n",
        "tf.disable_v2_behavior()\n",
        "import numpy.linalg as la\n",
        "import scipy.io as sio\n",
        "import math\n",
        "import sys\n",
        "import time\n",
        "import pdb\n",
        "import matplotlib.pyplot as plt\n",
        "import problem, network, train\n",
        "import blocksparsetoolbox as bst"
      ]
    },
    {
      "cell_type": "code",
      "execution_count": null,
      "id": "5fcee3b8",
      "metadata": {
        "id": "5fcee3b8"
      },
      "outputs": [],
      "source": [
        "np.random.seed(1)\n",
        "tf.set_random_seed(1)"
      ]
    },
    {
      "cell_type": "code",
      "execution_count": null,
      "id": "e3bd5340",
      "metadata": {
        "id": "e3bd5340"
      },
      "outputs": [],
      "source": [
        "# Creating the problem:"
      ]
    },
    {
      "cell_type": "code",
      "execution_count": null,
      "id": "1875a58a",
      "metadata": {
        "id": "1875a58a"
      },
      "outputs": [],
      "source": [
        "SNR = 30 # signal to noise ratio given in dB\n",
        "MC = 250 # batch number\n",
        "prob = problem.block_gaussian(m=50, L=128, B=15, MC=MC, pnz=0.1, SNR_dB=SNR)"
      ]
    },
    {
      "cell_type": "code",
      "execution_count": null,
      "id": "2ccfa9b0",
      "metadata": {
        "id": "2ccfa9b0"
      },
      "outputs": [],
      "source": [
        "plt.rcParams['figure.figsize'] = [15, 5]\n",
        "fig, ax = plt.subplots(1,3)\n",
        "ax[0].imshow(prob.A)\n",
        "ax[0].set_title('Matrix A')\n",
        "ax[1].plot(prob.xval[:,0])\n",
        "ax[1].set_title('x')\n",
        "ax[2].plot(prob.yval[:,0])\n",
        "ax[2].set_title('y')\n"
      ]
    },
    {
      "cell_type": "code",
      "execution_count": null,
      "id": "e410bce9",
      "metadata": {
        "id": "e410bce9"
      },
      "outputs": [],
      "source": [
        "# creating the network and setup training:\n",
        "\n",
        "T = 6 # number of layers/iterations"
      ]
    },
    {
      "cell_type": "code",
      "execution_count": null,
      "id": "15fb17eb",
      "metadata": {
        "id": "15fb17eb"
      },
      "outputs": [],
      "source": [
        "# computing the analytical weight matrix for ALBISTA and NA-ALBISTA\n",
        "\n"
      ]
    },
    {
      "cell_type": "code",
      "execution_count": null,
      "id": "1256f95d",
      "metadata": {
        "id": "1256f95d"
      },
      "outputs": [],
      "source": [
        "layers = network.build_LBISTA(prob, T, initial_lambda=.1)\n",
        "start = time.time()\n",
        "training_stages = train.setup_training(layers,prob,trinit=1e-3)\n",
        "end = time.time()\n",
        "print( 'Took me {totaltime:.3f} minutes for setup training'.format(totaltime = (end-start)/60))"
      ]
    },
    {
      "cell_type": "code",
      "execution_count": null,
      "id": "01b684ca",
      "metadata": {
        "id": "01b684ca"
      },
      "outputs": [],
      "source": [
        "# Train!"
      ]
    },
    {
      "cell_type": "code",
      "execution_count": null,
      "id": "dc6a3f7d",
      "metadata": {
        "id": "dc6a3f7d"
      },
      "outputs": [],
      "source": [
        "sess = train.do_training(training_stages,prob,'trainings/LBISTA_T'+str(T)+'_SNRdB_'+str(SNR)+'batch'+str(MC)+'.npz')"
      ]
    },
    {
      "cell_type": "code",
      "execution_count": null,
      "id": "7d47767a",
      "metadata": {
        "id": "7d47767a"
      },
      "outputs": [],
      "source": [
        "# Evaluating"
      ]
    },
    {
      "cell_type": "code",
      "execution_count": null,
      "id": "dea145bf",
      "metadata": {
        "id": "dea145bf"
      },
      "outputs": [],
      "source": [
        "y,x = prob(sess)\n",
        "MC = x.shape[-1]\n",
        "t=0\n",
        "l2norm=np.zeros(((T),MC))\n",
        "nmse_dbLISTA=np.zeros(((T),MC))\n",
        "for name, xhat_, var_list in layers:\n",
        "    if not name=='Linear':\n",
        "        xhat = sess.run(xhat_, feed_dict={prob.y_: y, prob.x_: x})\n",
        "        for i in range(0, x.shape[1]):\n",
        "            nmse_dbLISTA[t,i]=bst.nmse(xhat[:,i, np.newaxis], x[:,i, np.newaxis])\n",
        "            l2norm[t, i] = bst.l21norm(xhat[:, i]- x[:, i], prob.L, prob.B)\n",
        "        t+=1\n",
        "\n",
        "nmse_dbLISTAMean = 10*np.log10(np.mean(np.ma.masked_invalid(nmse_dbLISTA), axis=1))\n",
        "l2normLISTAMean = np.mean(np.ma.masked_invalid(l2norm), axis=1)\n",
        "l2normmax = np.max(l2norm, axis=1)\n",
        "\n",
        "lam = np.zeros(T)\n",
        "gam = np.zeros(T)\n",
        "k = 1\n",
        "for name, xhat_, var_list in layers:\n",
        "    if not name == 'Linear':\n",
        "        lam[k-1], gam[k-1] = sess.run([layers[k-1][2][0], layers[k-1][2][1]])\n",
        "        k = k+1\n",
        "\n",
        "plt.plot(nmse_dbLISTAMean)"
      ]
    },
    {
      "cell_type": "code",
      "execution_count": null,
      "id": "6ce5eb46",
      "metadata": {
        "id": "6ce5eb46"
      },
      "outputs": [],
      "source": [
        ""
      ]
    }
  ],
  "metadata": {
    "kernelspec": {
      "display_name": "Python 3 (ipykernel)",
      "language": "python",
      "name": "python3"
    },
    "language_info": {
      "codemirror_mode": {
        "name": "ipython",
        "version": 3
      },
      "file_extension": ".py",
      "mimetype": "text/x-python",
      "name": "python",
      "nbconvert_exporter": "python",
      "pygments_lexer": "ipython3",
      "version": "3.7.11"
    },
    "colab": {
      "name": "run_block_sparse_setting.ipynb",
      "provenance": []
    }
  },
  "nbformat": 4,
  "nbformat_minor": 5
}